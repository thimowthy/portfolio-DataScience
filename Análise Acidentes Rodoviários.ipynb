{
 "cells": [
  {
   "cell_type": "markdown",
   "id": "bd9068c0",
   "metadata": {},
   "source": [
    "# Análise Histórica e de Risco dos Acidentes Rodoviários no Brasil:\n",
    "# Tendências, Padrões e Implicações para a Segurança Viária"
   ]
  },
  {
   "cell_type": "markdown",
   "id": "6842a4a5",
   "metadata": {},
   "source": [
    "## Introdução"
   ]
  },
  {
   "cell_type": "markdown",
   "id": "7c619353",
   "metadata": {},
   "source": [
    "A segurança viária é uma preocupação fundamental em qualquer sociedade, e a análise de dados de acidentes rodoviários desempenha um papel crucial na compreensão dos padrões, tendências e fatores que contribuem para a ocorrência desses eventos. O objetivo desta análise é realizar uma investigação abrangente dos dados de acidentes por ocorrência, fornecendo insights valiosos que possam informar políticas públicas, campanhas de conscientização e medidas de prevenção destinadas a reduzir o número de acidentes e suas consequências."
   ]
  },
  {
   "cell_type": "markdown",
   "id": "6796a5a0",
   "metadata": {},
   "source": [
    "## Objetivo"
   ]
  },
  {
   "cell_type": "markdown",
   "id": "60eba65b",
   "metadata": {},
   "source": [
    "A análise abrange diversos aspectos dos acidentes rodoviários, incluindo a distribuição temporal e geográfica das ocorrências, bem como as condições meteorológicas. Além disso, busca-se compreender a relação entre a fase do dia e a frequência de acidentes, bem como investigar fatores como tipo de pista, trânsito e características da via, influenciando na gravidade e frequência dos incidentes. A classificação dos tipos de acidentes e a análise detalhada do número de pessoas envolvidas, bem como a contagem de veículos afetados, também são partes integrantes dessa análise minuciosa."
   ]
  },
  {
   "cell_type": "markdown",
   "id": "ea6762f0",
   "metadata": {},
   "source": [
    "## Dados"
   ]
  },
  {
   "cell_type": "markdown",
   "id": "e6660e53",
   "metadata": {},
   "source": [
    "Este conjunto de dados abrange o período de 2007 a 2021 e foi extraído diretamente do site da Polícia Rodoviária Federal, estando disponível através deste endereço eletrônico: https://www.gov.br/prf/pt-br/acesso-a-informacao/dados-abertos/dados-abertos-acidentes\n",
    "\n",
    "Dicionário de dados: https://drive.google.com/file/d/1dTuZVGmx4ui3VyGnKYztMHxcAAAdRUzq/view\n",
    "\n",
    "Esses dados estão divididos em arquivos anuais (formato .CSV) e são atualizados mensalmente no último arquivo (ano corrente).\n",
    "\n",
    "Os registros estão disponíveis em três grupos principais:\n",
    "\n",
    "Agrupados por ocorrência - (arquivos como datatran20XX.csv)\n",
    "Agrupados por pessoa - (arquivos como acidentes20XX.csv)\n",
    "Agrupados por pessoa - Todas as causas e tipos de acidentes (a partir de 2017) - (arquivos como acidentes20XX_todas_causas_tipos)\n",
    "\n",
    "Nessa análise somente os dados por ocorrência serão considerados. Esses somam 15 arquivos, separados de maneira respectiva a cada um dos anos entre 2014 e 2021"
   ]
  },
  {
   "cell_type": "markdown",
   "id": "c638499a",
   "metadata": {},
   "source": [
    "### Importar Bibliotecas"
   ]
  },
  {
   "cell_type": "code",
   "execution_count": 1,
   "id": "2d51e17f",
   "metadata": {},
   "outputs": [],
   "source": [
    "import pandas as pd\n",
    "import numpy as np\n",
    "import re\n",
    "import os\n",
    "from mapply.mapply import mapply\n",
    "import matplotlib.pyplot as plt"
   ]
  },
  {
   "cell_type": "code",
   "execution_count": 2,
   "id": "5f24379c",
   "metadata": {},
   "outputs": [],
   "source": [
    "folder_path = \"Brazil Car Accidents/por_ocorrencia\""
   ]
  },
  {
   "cell_type": "markdown",
   "id": "3a365884",
   "metadata": {},
   "source": [
    "### Importar Dados"
   ]
  },
  {
   "cell_type": "markdown",
   "id": "6c6953a7",
   "metadata": {},
   "source": [
    "Como os dados estão separados em diferentes arquivos, criaremos um dicionário no qual o ano é a chave e o DataFrame dos dados referente a esse ano é seu valor. A leitura será feita sem otimização de memória, sendo assim, as colunas com possíveis incompatibilidade de tipos de dados serão todas configurados com tipo object"
   ]
  },
  {
   "cell_type": "code",
   "execution_count": 3,
   "id": "52af964d",
   "metadata": {},
   "outputs": [],
   "source": [
    "data = {}\n",
    "\n",
    "for filename in os.listdir(folder_path):\n",
    "    \n",
    "    file_path = os.path.join(folder_path, filename)\n",
    "    \n",
    "    ano = int(re.search(r\"\\d+\", filename).group())\n",
    "    data[ano] = pd.read_csv(file_path, encoding=\"ISO-8859-1\", sep=\";\", low_memory=False)"
   ]
  },
  {
   "cell_type": "markdown",
   "id": "dcfc44f5",
   "metadata": {},
   "source": [
    "### Reestruturação dos Dados"
   ]
  },
  {
   "cell_type": "markdown",
   "id": "a3347eec",
   "metadata": {},
   "source": [
    "Com os dados já lidos, iremos unir numa só estrutura os DataFrames criados. Para tanto, precisamos verificar se as colunas dos dataframes são compatíveis, isto é, se eles possuem as mesma colunas. De maneira breve, podemos verificar que os dados possuem diferentes números de colunas, o que indica a necessidade de padronização entre os DataFrames para que eles possam ser integrados."
   ]
  },
  {
   "cell_type": "code",
   "execution_count": 4,
   "id": "1959caee",
   "metadata": {},
   "outputs": [
    {
     "name": "stdout",
     "output_type": "stream",
     "text": [
      "2007 26\n",
      "2008 26\n",
      "2009 26\n",
      "2010 26\n",
      "2011 26\n",
      "2012 26\n",
      "2013 26\n",
      "2014 26\n",
      "2015 26\n",
      "2016 25\n",
      "2017 30\n",
      "2018 30\n",
      "2019 30\n",
      "2020 30\n",
      "2021 30\n"
     ]
    }
   ],
   "source": [
    "for k, df in data.items():\n",
    "    print(k, len(df.columns))"
   ]
  },
  {
   "cell_type": "markdown",
   "id": "a6307c72",
   "metadata": {},
   "source": [
    "Verifiquemos a diferença das colunas entre os anos:"
   ]
  },
  {
   "cell_type": "code",
   "execution_count": 5,
   "id": "24f57805",
   "metadata": {},
   "outputs": [
    {
     "name": "stdout",
     "output_type": "stream",
     "text": [
      "df[2007] - df[2016]:  {'ano'}\n",
      "df[2016] - df[2007] set()\n",
      "\n",
      "df[2007] - df[2017]:  {'ano'}\n",
      "df[2017] - df[2007] {'delegacia', 'regional', 'longitude', 'latitude', 'uop'}\n",
      "\n",
      "df[2007] - df[2018]:  {'ano'}\n",
      "df[2018] - df[2007] {'delegacia', 'regional', 'longitude', 'latitude', 'uop'}\n",
      "\n",
      "df[2007] - df[2019]:  {'ano'}\n",
      "df[2019] - df[2007] {'delegacia', 'regional', 'longitude', 'latitude', 'uop'}\n",
      "\n",
      "df[2007] - df[2020]:  {'ano'}\n",
      "df[2020] - df[2007] {'delegacia', 'regional', 'longitude', 'latitude', 'uop'}\n",
      "\n",
      "df[2007] - df[2021]:  {'ano'}\n",
      "df[2021] - df[2007] {'delegacia', 'regional', 'longitude', 'latitude', 'uop'}\n",
      "\n"
     ]
    }
   ],
   "source": [
    "def check_diff():\n",
    "    for k, df in data.items():\n",
    "        diff1 = set(data[2007].columns) - set(data[k].columns)\n",
    "        diff2 = set(data[k].columns) - set(data[2007].columns)\n",
    "        if (diff1 | diff2):\n",
    "            print(f\"df[2007] - df[{k}]: \", diff1)\n",
    "            print(f\"df[{k}] - df[2007]\", diff2)\n",
    "            print()\n",
    "            \n",
    "check_diff()"
   ]
  },
  {
   "cell_type": "markdown",
   "id": "69c5d5d3",
   "metadata": {},
   "source": [
    "Veja que, para os anos entre 2007 e 2015, nenhuma é a diferença entre as colunas de seus respectivos DataFrames. Já para o df de 2016, vemos que ele não possui a coluna 'ano'. Já para os anos seguintes, apesar de não possuírem a coluna, possuem 5 novas colunas, ausentes nos demais arquivos."
   ]
  },
  {
   "cell_type": "markdown",
   "id": "3939aec4",
   "metadata": {},
   "source": [
    "Para que os dados possam ser integrados sem mais problemas podemos seguir duas abordagens: reduzir o número de colunas para o conjunto das colunas que são comum a todos ou manter todas as colunas e, nas tabelas em que essas colunas não existam, preencher essas colunas ausentes com valores nulos ou vazios. Seguiremos uma abordagem mista, mantendo a coluna 'ano', que será usada para um agrupamento posteriormente, e removendo as demais."
   ]
  },
  {
   "cell_type": "code",
   "execution_count": 6,
   "id": "b922b848",
   "metadata": {},
   "outputs": [],
   "source": [
    "for k, df in data.items():\n",
    "    excedente = list(set(data[k].columns) - set(data[2007].columns))\n",
    "    if excedente:\n",
    "        data[k] = data[k].drop(columns=excedente)"
   ]
  },
  {
   "cell_type": "code",
   "execution_count": 7,
   "id": "24f8ed1b",
   "metadata": {},
   "outputs": [
    {
     "name": "stdout",
     "output_type": "stream",
     "text": [
      "df[2007] - df[2016]:  {'ano'}\n",
      "df[2016] - df[2007] set()\n",
      "\n",
      "df[2007] - df[2017]:  {'ano'}\n",
      "df[2017] - df[2007] set()\n",
      "\n",
      "df[2007] - df[2018]:  {'ano'}\n",
      "df[2018] - df[2007] set()\n",
      "\n",
      "df[2007] - df[2019]:  {'ano'}\n",
      "df[2019] - df[2007] set()\n",
      "\n",
      "df[2007] - df[2020]:  {'ano'}\n",
      "df[2020] - df[2007] set()\n",
      "\n",
      "df[2007] - df[2021]:  {'ano'}\n",
      "df[2021] - df[2007] set()\n",
      "\n"
     ]
    }
   ],
   "source": [
    "check_diff()"
   ]
  },
  {
   "cell_type": "markdown",
   "id": "1d6c5fa8",
   "metadata": {},
   "source": [
    "As colunas excedentes foram removidas. Basta agora adicionar a coluna 'ano'."
   ]
  },
  {
   "cell_type": "code",
   "execution_count": 8,
   "id": "9a763548",
   "metadata": {},
   "outputs": [],
   "source": [
    "for k, df in data.items():\n",
    "    sem_ano = list(set(data[2007].columns) - set(data[k].columns))\n",
    "    if sem_ano:\n",
    "        data[k][\"ano\"] = k"
   ]
  },
  {
   "cell_type": "code",
   "execution_count": 9,
   "id": "b5ed94fb",
   "metadata": {},
   "outputs": [],
   "source": [
    "check_diff()"
   ]
  },
  {
   "cell_type": "markdown",
   "id": "3d8e1663",
   "metadata": {},
   "source": [
    "Com a padronização das colunas realizadas, iremos agora juntar todos os arquivos num só DataFrame:"
   ]
  },
  {
   "cell_type": "code",
   "execution_count": 10,
   "id": "726e21a7",
   "metadata": {},
   "outputs": [],
   "source": [
    "df = pd.concat(data.values(), ignore_index=True)"
   ]
  },
  {
   "cell_type": "markdown",
   "id": "15ffc660",
   "metadata": {},
   "source": [
    "### Visão Geral dos Dados"
   ]
  },
  {
   "cell_type": "markdown",
   "id": "46352ed3",
   "metadata": {},
   "source": [
    "Na tabela abaixo estão apresentadas as primeiras 5 linhas do DataFrame resultante da reestruturação inicial"
   ]
  },
  {
   "cell_type": "code",
   "execution_count": 11,
   "id": "87a790bb",
   "metadata": {},
   "outputs": [
    {
     "data": {
      "text/html": [
       "<div>\n",
       "<style scoped>\n",
       "    .dataframe tbody tr th:only-of-type {\n",
       "        vertical-align: middle;\n",
       "    }\n",
       "\n",
       "    .dataframe tbody tr th {\n",
       "        vertical-align: top;\n",
       "    }\n",
       "\n",
       "    .dataframe thead th {\n",
       "        text-align: right;\n",
       "    }\n",
       "</style>\n",
       "<table border=\"1\" class=\"dataframe\">\n",
       "  <thead>\n",
       "    <tr style=\"text-align: right;\">\n",
       "      <th></th>\n",
       "      <th>id</th>\n",
       "      <th>data_inversa</th>\n",
       "      <th>dia_semana</th>\n",
       "      <th>horario</th>\n",
       "      <th>uf</th>\n",
       "      <th>br</th>\n",
       "      <th>km</th>\n",
       "      <th>municipio</th>\n",
       "      <th>causa_acidente</th>\n",
       "      <th>tipo_acidente</th>\n",
       "      <th>...</th>\n",
       "      <th>uso_solo</th>\n",
       "      <th>ano</th>\n",
       "      <th>pessoas</th>\n",
       "      <th>mortos</th>\n",
       "      <th>feridos_leves</th>\n",
       "      <th>feridos_graves</th>\n",
       "      <th>ilesos</th>\n",
       "      <th>ignorados</th>\n",
       "      <th>feridos</th>\n",
       "      <th>veiculos</th>\n",
       "    </tr>\n",
       "  </thead>\n",
       "  <tbody>\n",
       "    <tr>\n",
       "      <th>0</th>\n",
       "      <td>10.0</td>\n",
       "      <td>11/06/2007</td>\n",
       "      <td>Segunda</td>\n",
       "      <td>15:30:00</td>\n",
       "      <td>MG</td>\n",
       "      <td>381</td>\n",
       "      <td>623.2</td>\n",
       "      <td>OLIVEIRA</td>\n",
       "      <td>Falta de atenção</td>\n",
       "      <td>Colisão frontal</td>\n",
       "      <td>...</td>\n",
       "      <td>Rural</td>\n",
       "      <td>2007</td>\n",
       "      <td>9</td>\n",
       "      <td>0</td>\n",
       "      <td>4</td>\n",
       "      <td>0</td>\n",
       "      <td>5</td>\n",
       "      <td>0</td>\n",
       "      <td>4</td>\n",
       "      <td>6</td>\n",
       "    </tr>\n",
       "    <tr>\n",
       "      <th>1</th>\n",
       "      <td>10.0</td>\n",
       "      <td>11/06/2007</td>\n",
       "      <td>Segunda</td>\n",
       "      <td>15:30:00</td>\n",
       "      <td>MG</td>\n",
       "      <td>381</td>\n",
       "      <td>623.2</td>\n",
       "      <td>OLIVEIRA</td>\n",
       "      <td>Falta de atenção</td>\n",
       "      <td>Colisão frontal</td>\n",
       "      <td>...</td>\n",
       "      <td>Rural</td>\n",
       "      <td>2007</td>\n",
       "      <td>9</td>\n",
       "      <td>0</td>\n",
       "      <td>4</td>\n",
       "      <td>0</td>\n",
       "      <td>5</td>\n",
       "      <td>0</td>\n",
       "      <td>4</td>\n",
       "      <td>6</td>\n",
       "    </tr>\n",
       "    <tr>\n",
       "      <th>2</th>\n",
       "      <td>1032898.0</td>\n",
       "      <td>13/08/2007</td>\n",
       "      <td>Segunda</td>\n",
       "      <td>14:25:00</td>\n",
       "      <td>MG</td>\n",
       "      <td>40</td>\n",
       "      <td>585.5</td>\n",
       "      <td>ITABIRITO</td>\n",
       "      <td>Outras</td>\n",
       "      <td>Saída de Pista</td>\n",
       "      <td>...</td>\n",
       "      <td>Rural</td>\n",
       "      <td>2007</td>\n",
       "      <td>3</td>\n",
       "      <td>0</td>\n",
       "      <td>0</td>\n",
       "      <td>1</td>\n",
       "      <td>2</td>\n",
       "      <td>0</td>\n",
       "      <td>1</td>\n",
       "      <td>1</td>\n",
       "    </tr>\n",
       "    <tr>\n",
       "      <th>3</th>\n",
       "      <td>1051130.0</td>\n",
       "      <td>12/02/2007</td>\n",
       "      <td>Segunda</td>\n",
       "      <td>02:10:00</td>\n",
       "      <td>MA</td>\n",
       "      <td>135</td>\n",
       "      <td>11</td>\n",
       "      <td>SAO LUIS</td>\n",
       "      <td>Animais na Pista</td>\n",
       "      <td>Atropelamento de animal</td>\n",
       "      <td>...</td>\n",
       "      <td>Urbano</td>\n",
       "      <td>2007</td>\n",
       "      <td>5</td>\n",
       "      <td>2</td>\n",
       "      <td>2</td>\n",
       "      <td>1</td>\n",
       "      <td>0</td>\n",
       "      <td>0</td>\n",
       "      <td>3</td>\n",
       "      <td>1</td>\n",
       "    </tr>\n",
       "    <tr>\n",
       "      <th>4</th>\n",
       "      <td>1066824.0</td>\n",
       "      <td>20/11/2007</td>\n",
       "      <td>Terça</td>\n",
       "      <td>05:30:00</td>\n",
       "      <td>CE</td>\n",
       "      <td>222</td>\n",
       "      <td>30.8</td>\n",
       "      <td>CAUCAIA</td>\n",
       "      <td>Defeito mecânico em veículo</td>\n",
       "      <td>Capotamento</td>\n",
       "      <td>...</td>\n",
       "      <td>Rural</td>\n",
       "      <td>2007</td>\n",
       "      <td>1</td>\n",
       "      <td>0</td>\n",
       "      <td>1</td>\n",
       "      <td>0</td>\n",
       "      <td>0</td>\n",
       "      <td>0</td>\n",
       "      <td>1</td>\n",
       "      <td>1</td>\n",
       "    </tr>\n",
       "  </tbody>\n",
       "</table>\n",
       "<p>5 rows × 26 columns</p>\n",
       "</div>"
      ],
      "text/plain": [
       "          id data_inversa dia_semana   horario  uf   br     km  municipio  \\\n",
       "0       10.0   11/06/2007    Segunda  15:30:00  MG  381  623.2   OLIVEIRA   \n",
       "1       10.0   11/06/2007    Segunda  15:30:00  MG  381  623.2   OLIVEIRA   \n",
       "2  1032898.0   13/08/2007    Segunda  14:25:00  MG   40  585.5  ITABIRITO   \n",
       "3  1051130.0   12/02/2007    Segunda  02:10:00  MA  135     11   SAO LUIS   \n",
       "4  1066824.0   20/11/2007      Terça  05:30:00  CE  222   30.8    CAUCAIA   \n",
       "\n",
       "                causa_acidente            tipo_acidente  ... uso_solo   ano  \\\n",
       "0             Falta de atenção          Colisão frontal  ...    Rural  2007   \n",
       "1             Falta de atenção          Colisão frontal  ...    Rural  2007   \n",
       "2                       Outras           Saída de Pista  ...    Rural  2007   \n",
       "3             Animais na Pista  Atropelamento de animal  ...   Urbano  2007   \n",
       "4  Defeito mecânico em veículo              Capotamento  ...    Rural  2007   \n",
       "\n",
       "  pessoas mortos feridos_leves feridos_graves ilesos  ignorados  feridos  \\\n",
       "0       9      0             4              0      5          0        4   \n",
       "1       9      0             4              0      5          0        4   \n",
       "2       3      0             0              1      2          0        1   \n",
       "3       5      2             2              1      0          0        3   \n",
       "4       1      0             1              0      0          0        1   \n",
       "\n",
       "   veiculos  \n",
       "0         6  \n",
       "1         6  \n",
       "2         1  \n",
       "3         1  \n",
       "4         1  \n",
       "\n",
       "[5 rows x 26 columns]"
      ]
     },
     "execution_count": 11,
     "metadata": {},
     "output_type": "execute_result"
    }
   ],
   "source": [
    "df.head()"
   ]
  },
  {
   "cell_type": "markdown",
   "id": "ed4e5542",
   "metadata": {},
   "source": [
    "Essas são as colunas do DataFrame:"
   ]
  },
  {
   "cell_type": "code",
   "execution_count": 12,
   "id": "08d98e1b",
   "metadata": {},
   "outputs": [
    {
     "data": {
      "text/plain": [
       "Index(['id', 'data_inversa', 'dia_semana', 'horario', 'uf', 'br', 'km',\n",
       "       'municipio', 'causa_acidente', 'tipo_acidente',\n",
       "       'classificacao_acidente', 'fase_dia', 'sentido_via',\n",
       "       'condicao_metereologica', 'tipo_pista', 'tracado_via', 'uso_solo',\n",
       "       'ano', 'pessoas', 'mortos', 'feridos_leves', 'feridos_graves', 'ilesos',\n",
       "       'ignorados', 'feridos', 'veiculos'],\n",
       "      dtype='object')"
      ]
     },
     "execution_count": 12,
     "metadata": {},
     "output_type": "execute_result"
    }
   ],
   "source": [
    "df.columns"
   ]
  },
  {
   "cell_type": "markdown",
   "id": "9fc5927b",
   "metadata": {},
   "source": [
    "O DataFrame possui 26 colunas e 1882953 linhas"
   ]
  },
  {
   "cell_type": "code",
   "execution_count": 13,
   "id": "1ca2c0bc",
   "metadata": {},
   "outputs": [
    {
     "data": {
      "text/plain": [
       "(1882953, 26)"
      ]
     },
     "execution_count": 13,
     "metadata": {},
     "output_type": "execute_result"
    }
   ],
   "source": [
    "df.shape"
   ]
  },
  {
   "cell_type": "code",
   "execution_count": 14,
   "id": "fc184d1a",
   "metadata": {},
   "outputs": [
    {
     "name": "stdout",
     "output_type": "stream",
     "text": [
      "<class 'pandas.core.frame.DataFrame'>\n",
      "RangeIndex: 1882953 entries, 0 to 1882952\n",
      "Data columns (total 26 columns):\n",
      " #   Column                  Dtype  \n",
      "---  ------                  -----  \n",
      " 0   id                      float64\n",
      " 1   data_inversa            object \n",
      " 2   dia_semana              object \n",
      " 3   horario                 object \n",
      " 4   uf                      object \n",
      " 5   br                      object \n",
      " 6   km                      object \n",
      " 7   municipio               object \n",
      " 8   causa_acidente          object \n",
      " 9   tipo_acidente           object \n",
      " 10  classificacao_acidente  object \n",
      " 11  fase_dia                object \n",
      " 12  sentido_via             object \n",
      " 13  condicao_metereologica  object \n",
      " 14  tipo_pista              object \n",
      " 15  tracado_via             object \n",
      " 16  uso_solo                object \n",
      " 17  ano                     int64  \n",
      " 18  pessoas                 int64  \n",
      " 19  mortos                  int64  \n",
      " 20  feridos_leves           int64  \n",
      " 21  feridos_graves          int64  \n",
      " 22  ilesos                  int64  \n",
      " 23  ignorados               int64  \n",
      " 24  feridos                 int64  \n",
      " 25  veiculos                int64  \n",
      "dtypes: float64(1), int64(9), object(16)\n",
      "memory usage: 373.5+ MB\n"
     ]
    }
   ],
   "source": [
    "df.info()"
   ]
  },
  {
   "cell_type": "markdown",
   "id": "b906d607",
   "metadata": {},
   "source": [
    "### Checagem e Remoção de Valores Faltantes"
   ]
  },
  {
   "cell_type": "code",
   "execution_count": 15,
   "id": "5dabf429",
   "metadata": {},
   "outputs": [
    {
     "data": {
      "text/plain": [
       "id                          0\n",
       "data_inversa                0\n",
       "dia_semana                  0\n",
       "horario                     0\n",
       "uf                          0\n",
       "br                        597\n",
       "km                        597\n",
       "municipio                   0\n",
       "causa_acidente              0\n",
       "tipo_acidente               0\n",
       "classificacao_acidente      1\n",
       "fase_dia                    1\n",
       "sentido_via                 0\n",
       "condicao_metereologica      3\n",
       "tipo_pista                  0\n",
       "tracado_via                 0\n",
       "uso_solo                    0\n",
       "ano                         0\n",
       "pessoas                     0\n",
       "mortos                      0\n",
       "feridos_leves               0\n",
       "feridos_graves              0\n",
       "ilesos                      0\n",
       "ignorados                   0\n",
       "feridos                     0\n",
       "veiculos                    0\n",
       "dtype: int64"
      ]
     },
     "execution_count": 15,
     "metadata": {},
     "output_type": "execute_result"
    }
   ],
   "source": [
    "df.isnull().sum()"
   ]
  },
  {
   "cell_type": "code",
   "execution_count": 16,
   "id": "3255cead",
   "metadata": {},
   "outputs": [],
   "source": [
    "nulos_por_uf = df[df.isnull().any(axis=1)].groupby(\"uf\").id.count()"
   ]
  },
  {
   "cell_type": "code",
   "execution_count": 17,
   "id": "feeefea8",
   "metadata": {},
   "outputs": [
    {
     "data": {
      "text/plain": [
       "uf\n",
       "MA    0.000002\n",
       "AL    0.000002\n",
       "AM    0.000002\n",
       "AP    0.000002\n",
       "SE    0.000003\n",
       "ES    0.000003\n",
       "AC    0.000004\n",
       "PI    0.000004\n",
       "RN    0.000005\n",
       "RR    0.000006\n",
       "PA    0.000006\n",
       "DF    0.000006\n",
       "PB    0.000007\n",
       "CE    0.000007\n",
       "TO    0.000008\n",
       "MS    0.000011\n",
       "MT    0.000012\n",
       "GO    0.000013\n",
       "PE    0.000013\n",
       "BA    0.000013\n",
       "SP    0.000015\n",
       "RO    0.000022\n",
       "SC    0.000023\n",
       "MG    0.000027\n",
       "RS    0.000032\n",
       "RJ    0.000033\n",
       "PR    0.000037\n",
       "Name: id, dtype: float64"
      ]
     },
     "execution_count": 17,
     "metadata": {},
     "output_type": "execute_result"
    }
   ],
   "source": [
    "((nulos_por_uf / df.id.count())).sort_values()"
   ]
  },
  {
   "cell_type": "markdown",
   "id": "15c57611",
   "metadata": {},
   "source": [
    "Calculando a proporção de valores nulos do total de registro por Unidade Federativa, vemos que para todos as UFs essa fração é uma parte pouco significante dos dados e que a remoção desses valores não farão nenhuma diferença na representatividade do grupo."
   ]
  },
  {
   "cell_type": "code",
   "execution_count": 18,
   "id": "3431a3dd",
   "metadata": {},
   "outputs": [],
   "source": [
    "df = df.dropna()"
   ]
  },
  {
   "cell_type": "markdown",
   "id": "acc16bdf",
   "metadata": {},
   "source": [
    "### Checagem e Remoção de Duplicatas"
   ]
  },
  {
   "cell_type": "code",
   "execution_count": 19,
   "id": "f9d0efcc",
   "metadata": {},
   "outputs": [],
   "source": [
    "id_duplicatas = df[df.duplicated(subset=[\"id\", \"dia_semana\", \"data_inversa\", \"uf\"], keep=\"last\")].id"
   ]
  },
  {
   "cell_type": "code",
   "execution_count": 20,
   "id": "af8bc3fb",
   "metadata": {},
   "outputs": [
    {
     "data": {
      "text/html": [
       "<div>\n",
       "<style scoped>\n",
       "    .dataframe tbody tr th:only-of-type {\n",
       "        vertical-align: middle;\n",
       "    }\n",
       "\n",
       "    .dataframe tbody tr th {\n",
       "        vertical-align: top;\n",
       "    }\n",
       "\n",
       "    .dataframe thead th {\n",
       "        text-align: right;\n",
       "    }\n",
       "</style>\n",
       "<table border=\"1\" class=\"dataframe\">\n",
       "  <thead>\n",
       "    <tr style=\"text-align: right;\">\n",
       "      <th></th>\n",
       "      <th>id</th>\n",
       "      <th>data_inversa</th>\n",
       "      <th>dia_semana</th>\n",
       "      <th>horario</th>\n",
       "      <th>uf</th>\n",
       "      <th>br</th>\n",
       "      <th>km</th>\n",
       "      <th>municipio</th>\n",
       "      <th>causa_acidente</th>\n",
       "      <th>tipo_acidente</th>\n",
       "      <th>...</th>\n",
       "      <th>uso_solo</th>\n",
       "      <th>ano</th>\n",
       "      <th>pessoas</th>\n",
       "      <th>mortos</th>\n",
       "      <th>feridos_leves</th>\n",
       "      <th>feridos_graves</th>\n",
       "      <th>ilesos</th>\n",
       "      <th>ignorados</th>\n",
       "      <th>feridos</th>\n",
       "      <th>veiculos</th>\n",
       "    </tr>\n",
       "  </thead>\n",
       "  <tbody>\n",
       "    <tr>\n",
       "      <th>0</th>\n",
       "      <td>10.0</td>\n",
       "      <td>11/06/2007</td>\n",
       "      <td>Segunda</td>\n",
       "      <td>15:30:00</td>\n",
       "      <td>MG</td>\n",
       "      <td>381</td>\n",
       "      <td>623.2</td>\n",
       "      <td>OLIVEIRA</td>\n",
       "      <td>Falta de atenção</td>\n",
       "      <td>Colisão frontal</td>\n",
       "      <td>...</td>\n",
       "      <td>Rural</td>\n",
       "      <td>2007</td>\n",
       "      <td>9</td>\n",
       "      <td>0</td>\n",
       "      <td>4</td>\n",
       "      <td>0</td>\n",
       "      <td>5</td>\n",
       "      <td>0</td>\n",
       "      <td>4</td>\n",
       "      <td>6</td>\n",
       "    </tr>\n",
       "    <tr>\n",
       "      <th>1</th>\n",
       "      <td>10.0</td>\n",
       "      <td>11/06/2007</td>\n",
       "      <td>Segunda</td>\n",
       "      <td>15:30:00</td>\n",
       "      <td>MG</td>\n",
       "      <td>381</td>\n",
       "      <td>623.2</td>\n",
       "      <td>OLIVEIRA</td>\n",
       "      <td>Falta de atenção</td>\n",
       "      <td>Colisão frontal</td>\n",
       "      <td>...</td>\n",
       "      <td>Rural</td>\n",
       "      <td>2007</td>\n",
       "      <td>9</td>\n",
       "      <td>0</td>\n",
       "      <td>4</td>\n",
       "      <td>0</td>\n",
       "      <td>5</td>\n",
       "      <td>0</td>\n",
       "      <td>4</td>\n",
       "      <td>6</td>\n",
       "    </tr>\n",
       "    <tr>\n",
       "      <th>40555</th>\n",
       "      <td>224331.0</td>\n",
       "      <td>05/05/2007</td>\n",
       "      <td>Sábado</td>\n",
       "      <td>20:45:00</td>\n",
       "      <td>SP</td>\n",
       "      <td>116</td>\n",
       "      <td>107</td>\n",
       "      <td>TAUBATE</td>\n",
       "      <td>Outras</td>\n",
       "      <td>Colisão lateral</td>\n",
       "      <td>...</td>\n",
       "      <td>Urbano</td>\n",
       "      <td>2007</td>\n",
       "      <td>2</td>\n",
       "      <td>0</td>\n",
       "      <td>0</td>\n",
       "      <td>0</td>\n",
       "      <td>1</td>\n",
       "      <td>1</td>\n",
       "      <td>0</td>\n",
       "      <td>2</td>\n",
       "    </tr>\n",
       "    <tr>\n",
       "      <th>40556</th>\n",
       "      <td>224331.0</td>\n",
       "      <td>05/05/2007</td>\n",
       "      <td>Sábado</td>\n",
       "      <td>20:45:00</td>\n",
       "      <td>SP</td>\n",
       "      <td>116</td>\n",
       "      <td>107</td>\n",
       "      <td>TAUBATE</td>\n",
       "      <td>Outras</td>\n",
       "      <td>Colisão lateral</td>\n",
       "      <td>...</td>\n",
       "      <td>Urbano</td>\n",
       "      <td>2007</td>\n",
       "      <td>2</td>\n",
       "      <td>0</td>\n",
       "      <td>0</td>\n",
       "      <td>0</td>\n",
       "      <td>1</td>\n",
       "      <td>1</td>\n",
       "      <td>0</td>\n",
       "      <td>2</td>\n",
       "    </tr>\n",
       "    <tr>\n",
       "      <th>72478</th>\n",
       "      <td>263322.0</td>\n",
       "      <td>07/08/2007</td>\n",
       "      <td>Terça</td>\n",
       "      <td>17:10:00</td>\n",
       "      <td>ES</td>\n",
       "      <td>101</td>\n",
       "      <td>284</td>\n",
       "      <td>CARIACICA</td>\n",
       "      <td>Falta de atenção</td>\n",
       "      <td>Colisão Transversal</td>\n",
       "      <td>...</td>\n",
       "      <td>Rural</td>\n",
       "      <td>2007</td>\n",
       "      <td>3</td>\n",
       "      <td>0</td>\n",
       "      <td>0</td>\n",
       "      <td>2</td>\n",
       "      <td>1</td>\n",
       "      <td>0</td>\n",
       "      <td>2</td>\n",
       "      <td>2</td>\n",
       "    </tr>\n",
       "    <tr>\n",
       "      <th>...</th>\n",
       "      <td>...</td>\n",
       "      <td>...</td>\n",
       "      <td>...</td>\n",
       "      <td>...</td>\n",
       "      <td>...</td>\n",
       "      <td>...</td>\n",
       "      <td>...</td>\n",
       "      <td>...</td>\n",
       "      <td>...</td>\n",
       "      <td>...</td>\n",
       "      <td>...</td>\n",
       "      <td>...</td>\n",
       "      <td>...</td>\n",
       "      <td>...</td>\n",
       "      <td>...</td>\n",
       "      <td>...</td>\n",
       "      <td>...</td>\n",
       "      <td>...</td>\n",
       "      <td>...</td>\n",
       "      <td>...</td>\n",
       "      <td>...</td>\n",
       "    </tr>\n",
       "    <tr>\n",
       "      <th>1536998</th>\n",
       "      <td>83502380.0</td>\n",
       "      <td>29/09/16</td>\n",
       "      <td>Quinta</td>\n",
       "      <td>11:30:00</td>\n",
       "      <td>MT</td>\n",
       "      <td>163</td>\n",
       "      <td>84,5</td>\n",
       "      <td>RONDONOPOLIS</td>\n",
       "      <td>Outras</td>\n",
       "      <td>Capotamento</td>\n",
       "      <td>...</td>\n",
       "      <td>Rural</td>\n",
       "      <td>2016</td>\n",
       "      <td>2</td>\n",
       "      <td>0</td>\n",
       "      <td>2</td>\n",
       "      <td>0</td>\n",
       "      <td>0</td>\n",
       "      <td>0</td>\n",
       "      <td>2</td>\n",
       "      <td>1</td>\n",
       "    </tr>\n",
       "    <tr>\n",
       "      <th>1562200</th>\n",
       "      <td>8.0</td>\n",
       "      <td>2017-01-01</td>\n",
       "      <td>domingo</td>\n",
       "      <td>00:00:00</td>\n",
       "      <td>PR</td>\n",
       "      <td>376.0</td>\n",
       "      <td>112</td>\n",
       "      <td>PARANAVAI</td>\n",
       "      <td>Fenômenos da Natureza</td>\n",
       "      <td>Queda de ocupante de veículo</td>\n",
       "      <td>...</td>\n",
       "      <td>Não</td>\n",
       "      <td>2017</td>\n",
       "      <td>1</td>\n",
       "      <td>0</td>\n",
       "      <td>0</td>\n",
       "      <td>1</td>\n",
       "      <td>0</td>\n",
       "      <td>0</td>\n",
       "      <td>1</td>\n",
       "      <td>1</td>\n",
       "    </tr>\n",
       "    <tr>\n",
       "      <th>1757071</th>\n",
       "      <td>224331.0</td>\n",
       "      <td>2019-07-24</td>\n",
       "      <td>quarta-feira</td>\n",
       "      <td>12:07:00</td>\n",
       "      <td>ES</td>\n",
       "      <td>262.0</td>\n",
       "      <td>2,3</td>\n",
       "      <td>CARIACICA</td>\n",
       "      <td>Falta de Atenção à Condução</td>\n",
       "      <td>Colisão traseira</td>\n",
       "      <td>...</td>\n",
       "      <td>Sim</td>\n",
       "      <td>2019</td>\n",
       "      <td>2</td>\n",
       "      <td>0</td>\n",
       "      <td>0</td>\n",
       "      <td>1</td>\n",
       "      <td>1</td>\n",
       "      <td>0</td>\n",
       "      <td>1</td>\n",
       "      <td>2</td>\n",
       "    </tr>\n",
       "    <tr>\n",
       "      <th>1791285</th>\n",
       "      <td>263322.0</td>\n",
       "      <td>2020-01-17</td>\n",
       "      <td>sexta-feira</td>\n",
       "      <td>11:05:00</td>\n",
       "      <td>BA</td>\n",
       "      <td>324.0</td>\n",
       "      <td>571,9</td>\n",
       "      <td>SAO SEBASTIAO DO PASSE</td>\n",
       "      <td>Falta de Atenção à Condução</td>\n",
       "      <td>Saída de leito carroçável</td>\n",
       "      <td>...</td>\n",
       "      <td>Não</td>\n",
       "      <td>2020</td>\n",
       "      <td>5</td>\n",
       "      <td>0</td>\n",
       "      <td>4</td>\n",
       "      <td>0</td>\n",
       "      <td>1</td>\n",
       "      <td>0</td>\n",
       "      <td>4</td>\n",
       "      <td>1</td>\n",
       "    </tr>\n",
       "    <tr>\n",
       "      <th>1812520</th>\n",
       "      <td>287779.0</td>\n",
       "      <td>2020-06-02</td>\n",
       "      <td>terça-feira</td>\n",
       "      <td>15:55:00</td>\n",
       "      <td>RN</td>\n",
       "      <td>304.0</td>\n",
       "      <td>164,8</td>\n",
       "      <td>ANGICOS</td>\n",
       "      <td>Falta de Atenção à Condução</td>\n",
       "      <td>Saída de leito carroçável</td>\n",
       "      <td>...</td>\n",
       "      <td>Não</td>\n",
       "      <td>2020</td>\n",
       "      <td>2</td>\n",
       "      <td>0</td>\n",
       "      <td>2</td>\n",
       "      <td>0</td>\n",
       "      <td>0</td>\n",
       "      <td>0</td>\n",
       "      <td>2</td>\n",
       "      <td>1</td>\n",
       "    </tr>\n",
       "  </tbody>\n",
       "</table>\n",
       "<p>74 rows × 26 columns</p>\n",
       "</div>"
      ],
      "text/plain": [
       "                 id data_inversa    dia_semana   horario  uf     br     km  \\\n",
       "0              10.0   11/06/2007       Segunda  15:30:00  MG    381  623.2   \n",
       "1              10.0   11/06/2007       Segunda  15:30:00  MG    381  623.2   \n",
       "40555      224331.0   05/05/2007        Sábado  20:45:00  SP    116    107   \n",
       "40556      224331.0   05/05/2007        Sábado  20:45:00  SP    116    107   \n",
       "72478      263322.0   07/08/2007         Terça  17:10:00  ES    101    284   \n",
       "...             ...          ...           ...       ...  ..    ...    ...   \n",
       "1536998  83502380.0     29/09/16        Quinta  11:30:00  MT    163   84,5   \n",
       "1562200         8.0   2017-01-01       domingo  00:00:00  PR  376.0    112   \n",
       "1757071    224331.0   2019-07-24  quarta-feira  12:07:00  ES  262.0    2,3   \n",
       "1791285    263322.0   2020-01-17   sexta-feira  11:05:00  BA  324.0  571,9   \n",
       "1812520    287779.0   2020-06-02   terça-feira  15:55:00  RN  304.0  164,8   \n",
       "\n",
       "                      municipio               causa_acidente  \\\n",
       "0                      OLIVEIRA             Falta de atenção   \n",
       "1                      OLIVEIRA             Falta de atenção   \n",
       "40555                   TAUBATE                       Outras   \n",
       "40556                   TAUBATE                       Outras   \n",
       "72478                 CARIACICA             Falta de atenção   \n",
       "...                         ...                          ...   \n",
       "1536998            RONDONOPOLIS                       Outras   \n",
       "1562200               PARANAVAI        Fenômenos da Natureza   \n",
       "1757071               CARIACICA  Falta de Atenção à Condução   \n",
       "1791285  SAO SEBASTIAO DO PASSE  Falta de Atenção à Condução   \n",
       "1812520                 ANGICOS  Falta de Atenção à Condução   \n",
       "\n",
       "                        tipo_acidente  ... uso_solo   ano pessoas mortos  \\\n",
       "0                     Colisão frontal  ...    Rural  2007       9      0   \n",
       "1                     Colisão frontal  ...    Rural  2007       9      0   \n",
       "40555                 Colisão lateral  ...   Urbano  2007       2      0   \n",
       "40556                 Colisão lateral  ...   Urbano  2007       2      0   \n",
       "72478             Colisão Transversal  ...    Rural  2007       3      0   \n",
       "...                               ...  ...      ...   ...     ...    ...   \n",
       "1536998                   Capotamento  ...    Rural  2016       2      0   \n",
       "1562200  Queda de ocupante de veículo  ...      Não  2017       1      0   \n",
       "1757071              Colisão traseira  ...      Sim  2019       2      0   \n",
       "1791285     Saída de leito carroçável  ...      Não  2020       5      0   \n",
       "1812520     Saída de leito carroçável  ...      Não  2020       2      0   \n",
       "\n",
       "        feridos_leves feridos_graves ilesos  ignorados  feridos  veiculos  \n",
       "0                   4              0      5          0        4         6  \n",
       "1                   4              0      5          0        4         6  \n",
       "40555               0              0      1          1        0         2  \n",
       "40556               0              0      1          1        0         2  \n",
       "72478               0              2      1          0        2         2  \n",
       "...               ...            ...    ...        ...      ...       ...  \n",
       "1536998             2              0      0          0        2         1  \n",
       "1562200             0              1      0          0        1         1  \n",
       "1757071             0              1      1          0        1         2  \n",
       "1791285             4              0      1          0        4         1  \n",
       "1812520             2              0      0          0        2         1  \n",
       "\n",
       "[74 rows x 26 columns]"
      ]
     },
     "execution_count": 20,
     "metadata": {},
     "output_type": "execute_result"
    }
   ],
   "source": [
    "df[df['id'].isin(id_duplicatas)]"
   ]
  },
  {
   "cell_type": "code",
   "execution_count": 21,
   "id": "35561631",
   "metadata": {},
   "outputs": [],
   "source": [
    "df = df.drop_duplicates(subset=[\"id\", \"dia_semana\", \"data_inversa\", \"uf\"], keep=\"last\")"
   ]
  },
  {
   "cell_type": "markdown",
   "id": "d72c9fa4",
   "metadata": {},
   "source": [
    "### Uniformização dos Valores de cada Coluna"
   ]
  },
  {
   "cell_type": "markdown",
   "id": "619b8c30",
   "metadata": {},
   "source": [
    "#### Unidade Federativa"
   ]
  },
  {
   "cell_type": "code",
   "execution_count": 22,
   "id": "edf31921",
   "metadata": {},
   "outputs": [
    {
     "name": "stdout",
     "output_type": "stream",
     "text": [
      "28 ['(null)', 'AC', 'AL', 'AM', 'AP', 'BA', 'CE', 'DF', 'ES', 'GO', 'MA', 'MG', 'MS', 'MT', 'PA', 'PB', 'PE', 'PI', 'PR', 'RJ', 'RN', 'RO', 'RR', 'RS', 'SC', 'SE', 'SP', 'TO']\n"
     ]
    }
   ],
   "source": [
    "UFs = sorted(df.uf.unique())\n",
    "print(len(UFs), list(UFs))"
   ]
  },
  {
   "cell_type": "code",
   "execution_count": 23,
   "id": "2785e570",
   "metadata": {},
   "outputs": [
    {
     "data": {
      "text/plain": [
       "12"
      ]
     },
     "execution_count": 23,
     "metadata": {},
     "output_type": "execute_result"
    }
   ],
   "source": [
    "(df.uf == \"(null)\").sum()"
   ]
  },
  {
   "cell_type": "code",
   "execution_count": 24,
   "id": "7d0093b4",
   "metadata": {},
   "outputs": [],
   "source": [
    "df = df[df.uf != \"(null)\"]"
   ]
  },
  {
   "cell_type": "markdown",
   "id": "37099839",
   "metadata": {},
   "source": [
    "#### Tipo Acidente"
   ]
  },
  {
   "cell_type": "code",
   "execution_count": 25,
   "id": "838ac26e",
   "metadata": {},
   "outputs": [],
   "source": [
    "df.loc[df.tipo_acidente == \"Atropelamento de pessoa\", \"tipo_acidente\"] = \"Atropelamento de pedestre\""
   ]
  },
  {
   "cell_type": "markdown",
   "id": "f8b45920",
   "metadata": {},
   "source": [
    "#### Dia da Semana"
   ]
  },
  {
   "cell_type": "code",
   "execution_count": 26,
   "id": "0f4a8c5c",
   "metadata": {},
   "outputs": [
    {
     "data": {
      "text/plain": [
       "array(['Segunda', 'Terça', 'Domingo', 'Quinta', 'Quarta', 'Sexta',\n",
       "       'Sábado', 'domingo', 'segunda-feira', 'terça-feira', 'sexta-feira',\n",
       "       'quarta-feira', 'quinta-feira', 'sábado'], dtype=object)"
      ]
     },
     "execution_count": 26,
     "metadata": {},
     "output_type": "execute_result"
    }
   ],
   "source": [
    "df.dia_semana.unique()"
   ]
  },
  {
   "cell_type": "code",
   "execution_count": 27,
   "id": "1cadf2a4",
   "metadata": {},
   "outputs": [],
   "source": [
    "df.loc[df.dia_semana == \"segunda-feira\", \"dia_semana\"] = \"Segunda\"\n",
    "df.loc[df.dia_semana == \"terça-feira\", \"dia_semana\"] = \"Terça\"\n",
    "df.loc[df.dia_semana == \"quarta-feira\", \"dia_semana\"] = \"Quarta\"\n",
    "df.loc[df.dia_semana == \"quinta-feira\", \"dia_semana\"] = \"Terça\"\n",
    "df.loc[df.dia_semana == \"sexta-feira\", \"dia_semana\"] = \"Sexta\"\n",
    "df.loc[df.dia_semana == \"sábado\", \"dia_semana\"] = \"Sábado\"\n",
    "df.loc[df.dia_semana == \"domingo\", \"dia_semana\"] = \"Domingo\""
   ]
  },
  {
   "cell_type": "markdown",
   "id": "650d23f5",
   "metadata": {},
   "source": [
    "#### Fase do Dia"
   ]
  },
  {
   "cell_type": "code",
   "execution_count": 28,
   "id": "eae7bbc0",
   "metadata": {},
   "outputs": [
    {
     "data": {
      "text/plain": [
       "array(['Pleno dia', 'Plena noite', 'Amanhecer', 'Anoitecer', '(null)',\n",
       "       'Plena Noite'], dtype=object)"
      ]
     },
     "execution_count": 28,
     "metadata": {},
     "output_type": "execute_result"
    }
   ],
   "source": [
    "df.fase_dia.unique()"
   ]
  },
  {
   "cell_type": "code",
   "execution_count": 29,
   "id": "98e64b7c",
   "metadata": {},
   "outputs": [
    {
     "data": {
      "text/plain": [
       "69"
      ]
     },
     "execution_count": 29,
     "metadata": {},
     "output_type": "execute_result"
    }
   ],
   "source": [
    "(df.fase_dia == '(null)').sum()"
   ]
  },
  {
   "cell_type": "code",
   "execution_count": 30,
   "id": "ae38fc0a",
   "metadata": {},
   "outputs": [],
   "source": [
    "df.loc[df.fase_dia == \"Plena Noite\", \"fase_dia\"] = \"Plena noite\""
   ]
  },
  {
   "cell_type": "code",
   "execution_count": 31,
   "id": "88e0b3a8",
   "metadata": {},
   "outputs": [],
   "source": [
    "df = df[df.fase_dia != \"(null)\"]"
   ]
  },
  {
   "cell_type": "markdown",
   "id": "2eed0444",
   "metadata": {},
   "source": [
    "#### Classificação do Acidente\n"
   ]
  },
  {
   "cell_type": "code",
   "execution_count": 32,
   "id": "4ba22dd4",
   "metadata": {},
   "outputs": [
    {
     "data": {
      "text/plain": [
       "array(['(null)', 'Com Vítimas Feridas', 'Com Vítimas Fatais',\n",
       "       'Sem Vítimas', 'Ignorado'], dtype=object)"
      ]
     },
     "execution_count": 32,
     "metadata": {},
     "output_type": "execute_result"
    }
   ],
   "source": [
    "df.classificacao_acidente.unique()"
   ]
  },
  {
   "cell_type": "code",
   "execution_count": 33,
   "id": "929568be",
   "metadata": {},
   "outputs": [
    {
     "data": {
      "text/plain": [
       "23"
      ]
     },
     "execution_count": 33,
     "metadata": {},
     "output_type": "execute_result"
    }
   ],
   "source": [
    "(df.classificacao_acidente == '(null)').sum()"
   ]
  },
  {
   "cell_type": "code",
   "execution_count": 34,
   "id": "bac8b255",
   "metadata": {
    "scrolled": false
   },
   "outputs": [],
   "source": [
    "df = df[df.classificacao_acidente != '(null)']"
   ]
  },
  {
   "cell_type": "markdown",
   "id": "5f511a44",
   "metadata": {},
   "source": [
    "#### Sentido da Via"
   ]
  },
  {
   "cell_type": "code",
   "execution_count": 35,
   "id": "b544b63a",
   "metadata": {},
   "outputs": [
    {
     "data": {
      "text/plain": [
       "array(['Crescente', 'Decrescente'], dtype=object)"
      ]
     },
     "execution_count": 35,
     "metadata": {},
     "output_type": "execute_result"
    }
   ],
   "source": [
    "df.sentido_via.unique()"
   ]
  },
  {
   "cell_type": "markdown",
   "id": "f0ab98b9",
   "metadata": {},
   "source": [
    "#### Condição meteorológica"
   ]
  },
  {
   "cell_type": "code",
   "execution_count": 36,
   "id": "2b444670",
   "metadata": {},
   "outputs": [
    {
     "data": {
      "text/plain": [
       "array(['Ceu Claro', 'Chuva', 'Nublado', 'Sol', 'Nevoeiro/neblina',\n",
       "       'Ignorada', 'Vento', 'Granizo', '(null)', 'Neve', 'Garoa/Chuvisco',\n",
       "       'Céu Claro', 'Ignorado', 'Nevoeiro/Neblina'], dtype=object)"
      ]
     },
     "execution_count": 36,
     "metadata": {},
     "output_type": "execute_result"
    }
   ],
   "source": [
    "df.condicao_metereologica.unique()"
   ]
  },
  {
   "cell_type": "code",
   "execution_count": 37,
   "id": "7cf64d5e",
   "metadata": {},
   "outputs": [],
   "source": [
    "df.loc[df.condicao_metereologica == 'Ceu Claro', \"condicao_metereologica\"] = \"Céu Claro\"\n",
    "df.loc[df.condicao_metereologica == 'Nevoeiro/neblina', \"condicao_metereologica\"] = \"Nevoeiro/Neblina\"\n",
    "df.loc[df.condicao_metereologica == 'Ignorada', \"condicao_metereologica\"] = \"Ignorado\""
   ]
  },
  {
   "cell_type": "code",
   "execution_count": 38,
   "id": "a6dc8a5f",
   "metadata": {},
   "outputs": [
    {
     "data": {
      "text/plain": [
       "41"
      ]
     },
     "execution_count": 38,
     "metadata": {},
     "output_type": "execute_result"
    }
   ],
   "source": [
    "(df.condicao_metereologica == '(null)').sum()"
   ]
  },
  {
   "cell_type": "code",
   "execution_count": 39,
   "id": "042087bf",
   "metadata": {},
   "outputs": [],
   "source": [
    "df = df[df.condicao_metereologica != '(null)']"
   ]
  },
  {
   "cell_type": "markdown",
   "id": "56206139",
   "metadata": {},
   "source": [
    "#### Tipo de Pista"
   ]
  },
  {
   "cell_type": "code",
   "execution_count": 40,
   "id": "741c513b",
   "metadata": {},
   "outputs": [
    {
     "data": {
      "text/plain": [
       "array(['Simples', 'Dupla', 'Múltipla', '(null)'], dtype=object)"
      ]
     },
     "execution_count": 40,
     "metadata": {},
     "output_type": "execute_result"
    }
   ],
   "source": [
    "df.tipo_pista.unique()"
   ]
  },
  {
   "cell_type": "code",
   "execution_count": 41,
   "id": "db683129",
   "metadata": {},
   "outputs": [
    {
     "data": {
      "text/plain": [
       "10"
      ]
     },
     "execution_count": 41,
     "metadata": {},
     "output_type": "execute_result"
    }
   ],
   "source": [
    "(df.tipo_pista == \"(null)\").sum()"
   ]
  },
  {
   "cell_type": "code",
   "execution_count": 42,
   "id": "62960a0b",
   "metadata": {},
   "outputs": [],
   "source": [
    "df = df[df.tipo_pista != \"(null)\"]"
   ]
  },
  {
   "cell_type": "markdown",
   "id": "7b43f248",
   "metadata": {},
   "source": [
    "#### Traçado da Via"
   ]
  },
  {
   "cell_type": "code",
   "execution_count": 43,
   "id": "6ab8f145",
   "metadata": {},
   "outputs": [
    {
     "data": {
      "text/plain": [
       "array(['Reta', 'Curva', 'Cruzamento', 'Não Informado',\n",
       "       'Interseção de vias', 'Rotatória', 'Desvio Temporário', 'Viaduto',\n",
       "       'Ponte', 'Retorno Regulamentado', 'Túnel'], dtype=object)"
      ]
     },
     "execution_count": 43,
     "metadata": {},
     "output_type": "execute_result"
    }
   ],
   "source": [
    "df.tracado_via.unique()"
   ]
  },
  {
   "cell_type": "markdown",
   "id": "7230ec98",
   "metadata": {},
   "source": [
    "#### Tipo de Solo"
   ]
  },
  {
   "cell_type": "code",
   "execution_count": 44,
   "id": "765bc8e6",
   "metadata": {},
   "outputs": [
    {
     "data": {
      "text/plain": [
       "array(['Rural', 'Urbano', 'Não', 'Sim'], dtype=object)"
      ]
     },
     "execution_count": 44,
     "metadata": {},
     "output_type": "execute_result"
    }
   ],
   "source": [
    "df.uso_solo.unique()"
   ]
  },
  {
   "cell_type": "code",
   "execution_count": 45,
   "id": "e516dbe6",
   "metadata": {},
   "outputs": [],
   "source": [
    "df.loc[df.uso_solo == \"Sim\", \"uso_solo\"] = \"Urbano\"\n",
    "df.loc[df.uso_solo == \"Não\", \"uso_solo\"] = \"Rural\""
   ]
  },
  {
   "cell_type": "markdown",
   "id": "abe98eff",
   "metadata": {},
   "source": [
    "#### Tipo de Acidente"
   ]
  },
  {
   "cell_type": "code",
   "execution_count": 46,
   "id": "67bb9809",
   "metadata": {},
   "outputs": [
    {
     "data": {
      "text/plain": [
       "['Atropelamento de Animal',\n",
       " 'Atropelamento de Pedestre',\n",
       " 'Atropelamento de animal',\n",
       " 'Atropelamento de pedestre',\n",
       " 'Capotamento',\n",
       " 'Colisão Transversal',\n",
       " 'Colisão com bicicleta',\n",
       " 'Colisão com objeto',\n",
       " 'Colisão com objeto em movimento',\n",
       " 'Colisão com objeto estático',\n",
       " 'Colisão com objeto fixo',\n",
       " 'Colisão com objeto móvel',\n",
       " 'Colisão frontal',\n",
       " 'Colisão lateral',\n",
       " 'Colisão lateral mesmo sentido',\n",
       " 'Colisão lateral sentido oposto',\n",
       " 'Colisão transversal',\n",
       " 'Colisão traseira',\n",
       " 'Danos Eventuais',\n",
       " 'Danos eventuais',\n",
       " 'Derramamento de Carga',\n",
       " 'Derramamento de carga',\n",
       " 'Engavetamento',\n",
       " 'Eventos atípicos',\n",
       " 'Incêndio',\n",
       " 'Queda de motocicleta / bicicleta / veículo',\n",
       " 'Queda de ocupante de veículo',\n",
       " 'Saída de Pista',\n",
       " 'Saída de leito carroçável',\n",
       " 'Tombamento']"
      ]
     },
     "execution_count": 46,
     "metadata": {},
     "output_type": "execute_result"
    }
   ],
   "source": [
    "sorted(df.tipo_acidente.unique())"
   ]
  },
  {
   "cell_type": "code",
   "execution_count": 47,
   "id": "1108a69d",
   "metadata": {},
   "outputs": [],
   "source": [
    "df.loc[df.tipo_acidente == \"Atropelamento de animal\", \"tipo_acidente\"] = \"Atropelamento de Animal\"\n",
    "df.loc[df.tipo_acidente == \"Atropelamento de pedestre\", \"tipo_acidente\"] = \"Atropelamento de Pedestre\"\n",
    "df.loc[df.tipo_acidente == \"Colisão transversal\", \"tipo_acidente\"] = \"Colisão Transversal\"\n",
    "df.loc[df.tipo_acidente == \"Derramamento de carga\", \"tipo_acidente\"] = \"Derramamento de Carga\"\n",
    "df.loc[df.tipo_acidente == \"Queda de motocicleta / bicicleta / veículo\", \"tipo_acidente\"] = \"Queda de ocupante de veículo\""
   ]
  },
  {
   "cell_type": "markdown",
   "id": "69de02a2",
   "metadata": {},
   "source": [
    "### Mudança de Tipos"
   ]
  },
  {
   "cell_type": "code",
   "execution_count": 48,
   "id": "c4436371",
   "metadata": {},
   "outputs": [
    {
     "data": {
      "text/plain": [
       "id                        float64\n",
       "data_inversa               object\n",
       "dia_semana                 object\n",
       "horario                    object\n",
       "uf                         object\n",
       "br                         object\n",
       "km                         object\n",
       "municipio                  object\n",
       "causa_acidente             object\n",
       "tipo_acidente              object\n",
       "classificacao_acidente     object\n",
       "fase_dia                   object\n",
       "sentido_via                object\n",
       "condicao_metereologica     object\n",
       "tipo_pista                 object\n",
       "tracado_via                object\n",
       "uso_solo                   object\n",
       "ano                         int64\n",
       "pessoas                     int64\n",
       "mortos                      int64\n",
       "feridos_leves               int64\n",
       "feridos_graves              int64\n",
       "ilesos                      int64\n",
       "ignorados                   int64\n",
       "feridos                     int64\n",
       "veiculos                    int64\n",
       "dtype: object"
      ]
     },
     "execution_count": 48,
     "metadata": {},
     "output_type": "execute_result"
    }
   ],
   "source": [
    "df.dtypes"
   ]
  },
  {
   "cell_type": "markdown",
   "id": "64130cf9",
   "metadata": {},
   "source": [
    "Convertendo a coluna 'id' e 'br' para o tipo inteiro e a coluna 'data_inversa' para datetime"
   ]
  },
  {
   "cell_type": "code",
   "execution_count": 49,
   "id": "f2a8c9eb",
   "metadata": {},
   "outputs": [],
   "source": [
    "df.id = df.id.astype(\"Int64\")\n",
    "df.br = df.br.astype(\"float64\")\n",
    "df.br = df.br.astype(\"Int64\")"
   ]
  },
  {
   "cell_type": "code",
   "execution_count": 50,
   "id": "1b645779",
   "metadata": {},
   "outputs": [],
   "source": [
    "def padronizar_data(data):\n",
    "    \n",
    "    from datetime import datetime\n",
    "    import pandas as pd\n",
    "    \n",
    "    if data[2] == \"/\" or data[4] == \"/\":\n",
    "        data = data.split(\"/\")\n",
    "    else:\n",
    "        data = data.split(\"-\")\n",
    "\n",
    "    if len(data[0]) > 2:\n",
    "        formato = \"%Y-%m-%d\"\n",
    "        data_formatada = datetime.strptime(f\"20{data[0][-2:]}-{data[1]}-{data[2]}\", formato)\n",
    "    else:\n",
    "        formato = \"%d-%m-%Y\"\n",
    "        data_formatada = datetime.strptime(f\"{data[0]}-{data[1]}-20{data[2][-2:]}\", formato)\n",
    "    \n",
    "    return pd.to_datetime(data_formatada)"
   ]
  },
  {
   "cell_type": "code",
   "execution_count": 51,
   "id": "6442627c",
   "metadata": {
    "scrolled": true
   },
   "outputs": [
    {
     "name": "stderr",
     "output_type": "stream",
     "text": [
      "C:\\Users\\55799\\analise\\lib\\site-packages\\numpy\\core\\fromnumeric.py:57: FutureWarning: 'Series.swapaxes' is deprecated and will be removed in a future version. Please use 'Series.transpose' instead.\n",
      "  return bound(*args, **kwds)\n"
     ]
    },
    {
     "data": {
      "application/vnd.jupyter.widget-view+json": {
       "model_id": "753ec7f3d3ce4fcbab23ef408a2d7549",
       "version_major": 2,
       "version_minor": 0
      },
      "text/plain": [
       "  0%|                                                                                           | 0/24 [00:00<…"
      ]
     },
     "metadata": {},
     "output_type": "display_data"
    }
   ],
   "source": [
    "df.data_inversa = mapply(df.data_inversa, padronizar_data, progressbar=True)"
   ]
  },
  {
   "cell_type": "markdown",
   "id": "33931ec7",
   "metadata": {},
   "source": [
    "## Análise Descritiva"
   ]
  },
  {
   "cell_type": "code",
   "execution_count": 52,
   "id": "31a29897",
   "metadata": {},
   "outputs": [],
   "source": [
    "df[\"mes\"] = df[\"data_inversa\"].dt.month"
   ]
  },
  {
   "cell_type": "code",
   "execution_count": 53,
   "id": "faea500b",
   "metadata": {},
   "outputs": [],
   "source": [
    "acidentes_por_dia = df.groupby(\"dia_semana\")\n",
    "acidentes_por_ano_mes = df.groupby([\"ano\", \"mes\"])\n",
    "acidentes_por_uf = df.groupby(\"uf\")\n",
    "acidentes_por_causa = df.groupby(\"causa_acidente\") \n",
    "acidentes_por_tipo = df.groupby(\"tipo_acidente\")\n",
    "acidentes_por_ano = df.groupby(\"ano\")\n",
    "acidentes_por_clima = df.groupby(\"condicao_metereologica\")\n",
    "acidentes_por_ano_br = df.groupby([\"ano\", \"br\"])\n",
    "acidentes_por_municipio = df.groupby(\"municipio\")\n",
    "acidentes_por_tracado = df.groupby(\"tracado_via\")"
   ]
  },
  {
   "cell_type": "code",
   "execution_count": 54,
   "id": "5755aaba",
   "metadata": {},
   "outputs": [
    {
     "data": {
      "text/html": [
       "<div>\n",
       "<style scoped>\n",
       "    .dataframe tbody tr th:only-of-type {\n",
       "        vertical-align: middle;\n",
       "    }\n",
       "\n",
       "    .dataframe tbody tr th {\n",
       "        vertical-align: top;\n",
       "    }\n",
       "\n",
       "    .dataframe thead th {\n",
       "        text-align: right;\n",
       "    }\n",
       "</style>\n",
       "<table border=\"1\" class=\"dataframe\">\n",
       "  <thead>\n",
       "    <tr style=\"text-align: right;\">\n",
       "      <th></th>\n",
       "      <th>count</th>\n",
       "      <th>mean</th>\n",
       "      <th>std</th>\n",
       "      <th>min</th>\n",
       "      <th>25%</th>\n",
       "      <th>50%</th>\n",
       "      <th>75%</th>\n",
       "      <th>max</th>\n",
       "    </tr>\n",
       "    <tr>\n",
       "      <th>condicao_metereologica</th>\n",
       "      <th></th>\n",
       "      <th></th>\n",
       "      <th></th>\n",
       "      <th></th>\n",
       "      <th></th>\n",
       "      <th></th>\n",
       "      <th></th>\n",
       "      <th></th>\n",
       "    </tr>\n",
       "  </thead>\n",
       "  <tbody>\n",
       "    <tr>\n",
       "      <th>Chuva</th>\n",
       "      <td>310469.0</td>\n",
       "      <td>2.035765</td>\n",
       "      <td>1.700832</td>\n",
       "      <td>1.0</td>\n",
       "      <td>1.0</td>\n",
       "      <td>2.0</td>\n",
       "      <td>2.0</td>\n",
       "      <td>88.0</td>\n",
       "    </tr>\n",
       "    <tr>\n",
       "      <th>Céu Claro</th>\n",
       "      <td>935153.0</td>\n",
       "      <td>2.228574</td>\n",
       "      <td>1.599750</td>\n",
       "      <td>1.0</td>\n",
       "      <td>2.0</td>\n",
       "      <td>2.0</td>\n",
       "      <td>2.0</td>\n",
       "      <td>103.0</td>\n",
       "    </tr>\n",
       "    <tr>\n",
       "      <th>Garoa/Chuvisco</th>\n",
       "      <td>10866.0</td>\n",
       "      <td>2.322290</td>\n",
       "      <td>1.935008</td>\n",
       "      <td>1.0</td>\n",
       "      <td>1.0</td>\n",
       "      <td>2.0</td>\n",
       "      <td>3.0</td>\n",
       "      <td>48.0</td>\n",
       "    </tr>\n",
       "    <tr>\n",
       "      <th>Granizo</th>\n",
       "      <td>301.0</td>\n",
       "      <td>1.916944</td>\n",
       "      <td>1.087694</td>\n",
       "      <td>1.0</td>\n",
       "      <td>1.0</td>\n",
       "      <td>2.0</td>\n",
       "      <td>2.0</td>\n",
       "      <td>8.0</td>\n",
       "    </tr>\n",
       "    <tr>\n",
       "      <th>Ignorado</th>\n",
       "      <td>33134.0</td>\n",
       "      <td>2.116738</td>\n",
       "      <td>1.849207</td>\n",
       "      <td>1.0</td>\n",
       "      <td>1.0</td>\n",
       "      <td>2.0</td>\n",
       "      <td>2.0</td>\n",
       "      <td>82.0</td>\n",
       "    </tr>\n",
       "    <tr>\n",
       "      <th>Neve</th>\n",
       "      <td>109.0</td>\n",
       "      <td>2.155963</td>\n",
       "      <td>3.238010</td>\n",
       "      <td>1.0</td>\n",
       "      <td>1.0</td>\n",
       "      <td>2.0</td>\n",
       "      <td>2.0</td>\n",
       "      <td>34.0</td>\n",
       "    </tr>\n",
       "    <tr>\n",
       "      <th>Nevoeiro/Neblina</th>\n",
       "      <td>18914.0</td>\n",
       "      <td>2.184096</td>\n",
       "      <td>3.116255</td>\n",
       "      <td>1.0</td>\n",
       "      <td>1.0</td>\n",
       "      <td>2.0</td>\n",
       "      <td>2.0</td>\n",
       "      <td>248.0</td>\n",
       "    </tr>\n",
       "    <tr>\n",
       "      <th>Nublado</th>\n",
       "      <td>339230.0</td>\n",
       "      <td>2.168499</td>\n",
       "      <td>1.558545</td>\n",
       "      <td>1.0</td>\n",
       "      <td>1.0</td>\n",
       "      <td>2.0</td>\n",
       "      <td>2.0</td>\n",
       "      <td>80.0</td>\n",
       "    </tr>\n",
       "    <tr>\n",
       "      <th>Sol</th>\n",
       "      <td>229010.0</td>\n",
       "      <td>2.258085</td>\n",
       "      <td>1.352061</td>\n",
       "      <td>1.0</td>\n",
       "      <td>2.0</td>\n",
       "      <td>2.0</td>\n",
       "      <td>2.0</td>\n",
       "      <td>65.0</td>\n",
       "    </tr>\n",
       "    <tr>\n",
       "      <th>Vento</th>\n",
       "      <td>4975.0</td>\n",
       "      <td>2.100905</td>\n",
       "      <td>1.695885</td>\n",
       "      <td>1.0</td>\n",
       "      <td>1.0</td>\n",
       "      <td>2.0</td>\n",
       "      <td>2.0</td>\n",
       "      <td>60.0</td>\n",
       "    </tr>\n",
       "  </tbody>\n",
       "</table>\n",
       "</div>"
      ],
      "text/plain": [
       "                           count      mean       std  min  25%  50%  75%  \\\n",
       "condicao_metereologica                                                     \n",
       "Chuva                   310469.0  2.035765  1.700832  1.0  1.0  2.0  2.0   \n",
       "Céu Claro               935153.0  2.228574  1.599750  1.0  2.0  2.0  2.0   \n",
       "Garoa/Chuvisco           10866.0  2.322290  1.935008  1.0  1.0  2.0  3.0   \n",
       "Granizo                    301.0  1.916944  1.087694  1.0  1.0  2.0  2.0   \n",
       "Ignorado                 33134.0  2.116738  1.849207  1.0  1.0  2.0  2.0   \n",
       "Neve                       109.0  2.155963  3.238010  1.0  1.0  2.0  2.0   \n",
       "Nevoeiro/Neblina         18914.0  2.184096  3.116255  1.0  1.0  2.0  2.0   \n",
       "Nublado                 339230.0  2.168499  1.558545  1.0  1.0  2.0  2.0   \n",
       "Sol                     229010.0  2.258085  1.352061  1.0  2.0  2.0  2.0   \n",
       "Vento                     4975.0  2.100905  1.695885  1.0  1.0  2.0  2.0   \n",
       "\n",
       "                          max  \n",
       "condicao_metereologica         \n",
       "Chuva                    88.0  \n",
       "Céu Claro               103.0  \n",
       "Garoa/Chuvisco           48.0  \n",
       "Granizo                   8.0  \n",
       "Ignorado                 82.0  \n",
       "Neve                     34.0  \n",
       "Nevoeiro/Neblina        248.0  \n",
       "Nublado                  80.0  \n",
       "Sol                      65.0  \n",
       "Vento                    60.0  "
      ]
     },
     "execution_count": 54,
     "metadata": {},
     "output_type": "execute_result"
    }
   ],
   "source": [
    "cols = ['pessoas','mortos','feridos_leves','feridos_graves','ilesos','ignorados','feridos','veiculos']\n",
    "acidentes_por_clima.pessoas.describe()"
   ]
  },
  {
   "cell_type": "code",
   "execution_count": 55,
   "id": "52f4a4a4",
   "metadata": {},
   "outputs": [],
   "source": [
    "def formatar_milhar(num):\n",
    "    num = num[::-1]\n",
    "    return ('.'.join(num[i:i+3] for i in range(0, len(num), 3)))[::-1]"
   ]
  },
  {
   "cell_type": "code",
   "execution_count": 56,
   "id": "facdf1a2",
   "metadata": {},
   "outputs": [],
   "source": [
    "acidentes_por_dia = acidentes_por_dia.size().reindex(['Segunda', 'Terça', 'Quarta', 'Quinta', 'Sexta', 'Sábado', 'Domingo'])"
   ]
  },
  {
   "cell_type": "code",
   "execution_count": 57,
   "id": "fba012de",
   "metadata": {},
   "outputs": [
    {
     "data": {
      "image/png": "[encoded data removed]",
      "text/plain": [
       "<Figure size 1400x500 with 2 Axes>"
      ]
     },
     "metadata": {},
     "output_type": "display_data"
    }
   ],
   "source": [
    "plt.figure(figsize=(14, 5))\n",
    "\n",
    "plt.subplot(1, 2, 1)\n",
    "barras = acidentes_por_dia.plot(kind='bar', color='skyblue')\n",
    "plt.xlabel(\"Dias da Semana\")\n",
    "plt.ylabel('Número de Acidentes')\n",
    "plt.title('\\nNúmero de Acidentes por Dia da Semana\\n\\n')\n",
    "plt.xticks(rotation=0, ha='center')\n",
    "plt.grid(axis='y', linestyle='--', alpha=0.8)\n",
    "plt.gca().set_axisbelow(True)\n",
    "plt.ylim(min(acidentes_por_dia)*0.9, max(acidentes_por_dia) * 1.1)\n",
    "\n",
    "for i, valor in enumerate(acidentes_por_dia):\n",
    "    plt.text(i, valor + 0.1, formatar_milhar(str(valor))+'\\n', ha='center')\n",
    "\n",
    "plt.subplot(1, 2, 2)\n",
    "plt.pie(acidentes_por_dia, autopct='%1.1f%%', pctdistance=1.2, startangle=90, colors=plt.cm.Set3.colors)\n",
    "plt.title('\\nDitribuição de Acidentes por Dia da Semana\\n\\n')\n",
    "plt.legend(acidentes_por_dia.index, loc=\"center left\", bbox_to_anchor=(1, 0.5))\n",
    "plt.axis('equal')\n",
    "\n",
    "plt.tight_layout()\n",
    "\n",
    "plt.show()"
   ]
  },
  {
   "cell_type": "code",
   "execution_count": 58,
   "id": "dfb275d6",
   "metadata": {},
   "outputs": [],
   "source": [
    "acidentes_por_clima_media = acidentes_por_clima.mean(numeric_only=True)\n",
    "acidentes_por_clima = acidentes_por_clima.size().sort_values()"
   ]
  },
  {
   "cell_type": "code",
   "execution_count": 59,
   "id": "332d2f58",
   "metadata": {},
   "outputs": [
    {
     "data": {
      "image/png": "[encoded data removed]",
      "text/plain": [
       "<Figure size 700x500 with 1 Axes>"
      ]
     },
     "metadata": {},
     "output_type": "display_data"
    }
   ],
   "source": [
    "plt.figure(figsize=(7, 5))\n",
    "\n",
    "autopct = lambda v: f'{v:.1f}%' if v > 1.5 else None\n",
    "\n",
    "plt.pie(acidentes_por_clima,\n",
    "        autopct=autopct,\n",
    "        pctdistance=1.2,\n",
    "        startangle=90,\n",
    "        colors=plt.cm.Set3.colors,\n",
    "        wedgeprops= {'linewidth': 1, 'edgecolor':'white'})\n",
    "\n",
    "plt.title('\\nDitribuição de Acidentes por Condição Climática\\n\\n')\n",
    "plt.legend(acidentes_por_clima.index, loc=\"center left\", bbox_to_anchor=(1.1,.5))\n",
    "plt.axis('equal')\n",
    "\n",
    "plt.tight_layout()\n",
    "plt.show()"
   ]
  },
  {
   "cell_type": "code",
   "execution_count": 60,
   "id": "be7b82d9",
   "metadata": {},
   "outputs": [],
   "source": [
    "acidentes_por_clima_media = acidentes_por_clima_media[[\"mortos\", \"feridos_graves\"]].sort_values(by=\"mortos\", ascending=0)"
   ]
  },
  {
   "cell_type": "code",
   "execution_count": 61,
   "id": "771540ef",
   "metadata": {},
   "outputs": [
    {
     "data": {
      "text/html": [
       "<div>\n",
       "<style scoped>\n",
       "    .dataframe tbody tr th:only-of-type {\n",
       "        vertical-align: middle;\n",
       "    }\n",
       "\n",
       "    .dataframe tbody tr th {\n",
       "        vertical-align: top;\n",
       "    }\n",
       "\n",
       "    .dataframe thead th {\n",
       "        text-align: right;\n",
       "    }\n",
       "</style>\n",
       "<table border=\"1\" class=\"dataframe\">\n",
       "  <thead>\n",
       "    <tr style=\"text-align: right;\">\n",
       "      <th></th>\n",
       "      <th>mortos</th>\n",
       "      <th>feridos_graves</th>\n",
       "    </tr>\n",
       "    <tr>\n",
       "      <th>condicao_metereologica</th>\n",
       "      <th></th>\n",
       "      <th></th>\n",
       "    </tr>\n",
       "  </thead>\n",
       "  <tbody>\n",
       "    <tr>\n",
       "      <th>Neve</th>\n",
       "      <td>0.091743</td>\n",
       "      <td>0.165138</td>\n",
       "    </tr>\n",
       "    <tr>\n",
       "      <th>Ignorado</th>\n",
       "      <td>0.089455</td>\n",
       "      <td>0.242651</td>\n",
       "    </tr>\n",
       "    <tr>\n",
       "      <th>Nevoeiro/Neblina</th>\n",
       "      <td>0.084964</td>\n",
       "      <td>0.211748</td>\n",
       "    </tr>\n",
       "    <tr>\n",
       "      <th>Vento</th>\n",
       "      <td>0.076583</td>\n",
       "      <td>0.230754</td>\n",
       "    </tr>\n",
       "    <tr>\n",
       "      <th>Garoa/Chuvisco</th>\n",
       "      <td>0.064421</td>\n",
       "      <td>0.200718</td>\n",
       "    </tr>\n",
       "    <tr>\n",
       "      <th>Céu Claro</th>\n",
       "      <td>0.060482</td>\n",
       "      <td>0.196134</td>\n",
       "    </tr>\n",
       "    <tr>\n",
       "      <th>Nublado</th>\n",
       "      <td>0.052321</td>\n",
       "      <td>0.174156</td>\n",
       "    </tr>\n",
       "    <tr>\n",
       "      <th>Chuva</th>\n",
       "      <td>0.042954</td>\n",
       "      <td>0.139921</td>\n",
       "    </tr>\n",
       "    <tr>\n",
       "      <th>Sol</th>\n",
       "      <td>0.035619</td>\n",
       "      <td>0.154679</td>\n",
       "    </tr>\n",
       "    <tr>\n",
       "      <th>Granizo</th>\n",
       "      <td>0.033223</td>\n",
       "      <td>0.122924</td>\n",
       "    </tr>\n",
       "  </tbody>\n",
       "</table>\n",
       "</div>"
      ],
      "text/plain": [
       "                          mortos  feridos_graves\n",
       "condicao_metereologica                          \n",
       "Neve                    0.091743        0.165138\n",
       "Ignorado                0.089455        0.242651\n",
       "Nevoeiro/Neblina        0.084964        0.211748\n",
       "Vento                   0.076583        0.230754\n",
       "Garoa/Chuvisco          0.064421        0.200718\n",
       "Céu Claro               0.060482        0.196134\n",
       "Nublado                 0.052321        0.174156\n",
       "Chuva                   0.042954        0.139921\n",
       "Sol                     0.035619        0.154679\n",
       "Granizo                 0.033223        0.122924"
      ]
     },
     "execution_count": 61,
     "metadata": {},
     "output_type": "execute_result"
    }
   ],
   "source": [
    "acidentes_por_clima_media"
   ]
  },
  {
   "cell_type": "code",
   "execution_count": 62,
   "id": "f4007957",
   "metadata": {},
   "outputs": [
    {
     "data": {
      "text/plain": [
       "<Figure size 1000x600 with 0 Axes>"
      ]
     },
     "metadata": {},
     "output_type": "display_data"
    },
    {
     "data": {
      "image/png": "[encoded data removed]",
      "text/plain": [
       "<Figure size 640x480 with 1 Axes>"
      ]
     },
     "metadata": {},
     "output_type": "display_data"
    }
   ],
   "source": [
    "plt.figure(figsize=(10, 6))\n",
    "acidentes_por_clima_media.plot(kind='bar', color=['red', 'orange'])\n",
    "plt.title('Média de Mortes e Feridos Graves por Condição Meteorológica')\n",
    "plt.xlabel('Condição Meteorológica')\n",
    "plt.ylabel('Média')\n",
    "plt.xticks(rotation=45, ha='right')\n",
    "plt.grid(axis='y', linestyle='--', alpha=0.7)\n",
    "plt.gca().set_axisbelow(True)\n",
    "plt.tight_layout()\n",
    "plt.show()"
   ]
  },
  {
   "cell_type": "code",
   "execution_count": 63,
   "id": "53be3cdb",
   "metadata": {},
   "outputs": [],
   "source": [
    "acidentes_por_mes_ano = df.groupby([df['data_inversa'].dt.year, df['data_inversa'].dt.month]).size()\n",
    "acidentes_por_mes_ano.index = pd.to_datetime(acidentes_por_mes_ano.index.map(lambda x: '-'.join(map(str, x))))\n",
    "\n",
    "acidentes_por_ano = acidentes_por_ano.size()\n",
    "acidentes_por_ano.index = pd.to_datetime(acidentes_por_ano.index.map(lambda x:f\"{x}-01-01\"))"
   ]
  },
  {
   "cell_type": "code",
   "execution_count": 64,
   "id": "6af115dc",
   "metadata": {},
   "outputs": [
    {
     "data": {
      "image/png": "[encoded data removed]",
      "text/plain": [
       "<Figure size 2000x600 with 2 Axes>"
      ]
     },
     "metadata": {},
     "output_type": "display_data"
    }
   ],
   "source": [
    "plt.figure(figsize=(20, 6))\n",
    "\n",
    "acidentes_por_mes_ano.plot(color='skyblue', linestyle='-', linewidth=2.5)\n",
    "acidentes_por_ano.plot(secondary_y=True, marker='o')\n",
    "\n",
    "plt.xlabel('Mês e Ano')\n",
    "plt.ylabel('Número de Acidentes')\n",
    "plt.title('\\nNúmero de Acidentes no período entre 2007 e 2021\\n', size=18)\n",
    "plt.grid(True)\n",
    "plt.xticks(rotation=0)\n",
    "\n",
    "limite_inferior = acidentes_por_mes_ano.index.min() - pd.DateOffset(months=4)\n",
    "limite_superior = acidentes_por_mes_ano.index.max() + pd.DateOffset(months=4)\n",
    "plt.xlim(limite_inferior, limite_superior)\n",
    "plt.ylim(0, 240000)\n",
    "\n",
    "media_anual_acidentes = acidentes_por_ano.groupby(acidentes_por_ano.index.year).mean()\n",
    "media_anual_acidentes.index = pd.to_datetime(media_anual_acidentes.index, format='%Y')\n",
    "\n",
    "for i, valor in enumerate(media_anual_acidentes):\n",
    "    plt.annotate(formatar_milhar(str(int(valor))), (media_anual_acidentes.index[i], valor),\n",
    "                 textcoords=\"offset points\", xytext=(0, 30), ha='center', fontsize=12, fontweight='bold', color='darkorange',\n",
    "                 bbox=dict(facecolor='white', alpha=0.4, edgecolor='none', boxstyle='round,pad=0.2')\n",
    "                )\n",
    "\n",
    "plt.tight_layout()\n",
    "plt.show()"
   ]
  },
  {
   "cell_type": "code",
   "execution_count": 65,
   "id": "5354ce6a",
   "metadata": {},
   "outputs": [],
   "source": [
    "df[\"letal\"] = df[\"mortos\"] > 0"
   ]
  },
  {
   "cell_type": "code",
   "execution_count": 66,
   "id": "7fdf7321",
   "metadata": {},
   "outputs": [],
   "source": [
    "media_mortalidade_por_tipo = acidentes_por_tipo.mean(numeric_only=True)['mortos']\n",
    "media_letalidade_por_tipo = acidentes_por_tipo.mean(numeric_only=True)['letal']"
   ]
  },
  {
   "cell_type": "code",
   "execution_count": 67,
   "id": "cb107162",
   "metadata": {},
   "outputs": [],
   "source": [
    "def quebrar_linha_labels(labels, comprimento_maximo=15):\n",
    "    labels_quebrados = []\n",
    "    for label in labels:\n",
    "        if len(label) > comprimento_maximo:\n",
    "            pos = label.rfind(' ', 0, comprimento_maximo)\n",
    "            if pos != -1:\n",
    "                labels_quebrados.append(label[:pos] + '\\n' + label[pos+1:])\n",
    "            else:\n",
    "                labels_quebrados.append(label[:comprimento_maximo] + '\\n' + label[comprimento_maximo:])\n",
    "        else:\n",
    "            labels_quebrados.append(label)\n",
    "    return labels_quebrados"
   ]
  },
  {
   "cell_type": "code",
   "execution_count": 68,
   "id": "5ffb8a89",
   "metadata": {},
   "outputs": [
    {
     "data": {
      "image/png": "[encoded data removed]",
      "text/plain": [
       "<Figure size 1800x600 with 2 Axes>"
      ]
     },
     "metadata": {},
     "output_type": "display_data"
    }
   ],
   "source": [
    "import matplotlib.pyplot as plt\n",
    "import matplotlib.ticker as ticker\n",
    "\n",
    "def percent_formatter(x, pos):\n",
    "    return '{:.0f}%'.format(x * 100)\n",
    "\n",
    "formatter = ticker.FuncFormatter(percent_formatter)\n",
    "\n",
    "media_letalidade_por_tipo = acidentes_por_tipo.mean(numeric_only=True)['letal']\n",
    "top_5_letais = media_letalidade_por_tipo.sort_values(ascending=False).head(5)\n",
    "\n",
    "media_mortalidade_por_tipo = acidentes_por_tipo.mean(numeric_only=True)['mortos']\n",
    "top_5_mortais = media_mortalidade_por_tipo.sort_values(ascending=False).head(5)\n",
    "\n",
    "fig, axs = plt.subplots(1, 2, figsize=(18, 6))\n",
    "\n",
    "axs[0].bar(range(len(top_5_letais)), top_5_letais, color='red')\n",
    "axs[0].set_title('\\nAcidentes em que mais ocorrem mortes\\n', size=18)\n",
    "axs[0].set_xlabel('Tipo de Acidente')\n",
    "axs[0].set_ylabel('Taxa de Mortalidade')\n",
    "axs[0].set_ylim(0, 0.3)\n",
    "axs[0].set_xticks(range(len(top_5_letais)))\n",
    "axs[0].yaxis.set_major_formatter(formatter)\n",
    "axs[0].set_xticklabels(quebrar_linha_labels(top_5_letais.index, 18), rotation=0, ha='center')\n",
    "axs[0].grid(axis='y', linestyle='--', alpha=0.7)\n",
    "axs[0].set_axisbelow(True)\n",
    "\n",
    "axs[1].bar(range(len(top_5_mortais)), top_5_mortais, color='red')\n",
    "axs[1].set_title('\\nAcidentes em que ocorrem mais mortes\\n', size=18)\n",
    "axs[1].set_xlabel('Tipo de Acidente')\n",
    "axs[1].set_ylabel('Mortes')\n",
    "axs[1].set_ylim(0, None)\n",
    "axs[1].set_xticks(range(len(top_5_mortais)))\n",
    "axs[1].set_xticklabels(quebrar_linha_labels(top_5_letais.index, 18), rotation=0, ha='center')\n",
    "axs[1].grid(axis='y', linestyle='--', alpha=0.7)\n",
    "axs[1].set_axisbelow(True)\n",
    "\n",
    "plt.tight_layout()\n",
    "plt.show()"
   ]
  },
  {
   "cell_type": "code",
   "execution_count": 69,
   "id": "588e903b",
   "metadata": {
    "scrolled": true
   },
   "outputs": [],
   "source": [
    "media_acidentes_por_tracado = acidentes_por_tracado.mean(numeric_only=True).mortos.sort_values(ascending=0)"
   ]
  },
  {
   "cell_type": "code",
   "execution_count": 70,
   "id": "896cf365",
   "metadata": {},
   "outputs": [
    {
     "data": {
      "text/plain": [
       "tracado_via\n",
       "Ponte                    0.121212\n",
       "Desvio Temporário        0.096441\n",
       "Não Informado            0.090998\n",
       "Curva                    0.060903\n",
       "Reta                     0.053918\n",
       "Túnel                    0.032258\n",
       "Retorno Regulamentado    0.029951\n",
       "Interseção de vias       0.029585\n",
       "Viaduto                  0.028559\n",
       "Rotatória                0.021709\n",
       "Cruzamento               0.016897\n",
       "Name: mortos, dtype: float64"
      ]
     },
     "execution_count": 70,
     "metadata": {},
     "output_type": "execute_result"
    }
   ],
   "source": [
    "media_acidentes_por_tracado"
   ]
  },
  {
   "cell_type": "code",
   "execution_count": 71,
   "id": "7bc33f8b",
   "metadata": {},
   "outputs": [
    {
     "data": {
      "image/png": "[encoded data removed]",
      "text/plain": [
       "<Figure size 700x400 with 1 Axes>"
      ]
     },
     "metadata": {},
     "output_type": "display_data"
    }
   ],
   "source": [
    "plt.figure(figsize=(7, 4))\n",
    "media_acidentes_por_tracado[:6].plot(kind='bar', color='skyblue')\n",
    "\n",
    "plt.title('\\nMédia de Mortes por Tipo de Via\\n')\n",
    "plt.xlabel('Tipo de Via')\n",
    "plt.ylabel('Média de Mortes')\n",
    "\n",
    "plt.xticks(rotation=30, ha='right')\n",
    "plt.grid(axis='y', linestyle='--', alpha=0.7)\n",
    "plt.gca().set_axisbelow(True)\n",
    "\n",
    "plt.tight_layout()\n",
    "plt.show()"
   ]
  },
  {
   "cell_type": "code",
   "execution_count": 72,
   "id": "8ff05c05",
   "metadata": {},
   "outputs": [],
   "source": [
    "acidentes_por_ano_br = acidentes_por_ano_br.size()\n",
    "acidentes_por_ano_br = acidentes_por_ano_br.reset_index(name='num_acidentes')\n",
    "br_mais_acidentes_por_ano = acidentes_por_ano_br.loc[acidentes_por_ano_br.groupby('ano')['num_acidentes'].idxmax()]"
   ]
  },
  {
   "cell_type": "code",
   "execution_count": 73,
   "id": "c2dd4c3b",
   "metadata": {},
   "outputs": [],
   "source": [
    "br_mais_acidentes_por_ano.to_csv(\"br_mais_acidentes_por_ano.csv\")"
   ]
  },
  {
   "cell_type": "code",
   "execution_count": 74,
   "id": "249ff65a",
   "metadata": {},
   "outputs": [
    {
     "data": {
      "text/plain": [
       "dia_semana  uf  fase_dia     tracado_via        br \n",
       "Segunda     PI  Plena noite  Reta               407    0.517241\n",
       "Sábado      PB  Plena noite  Reta               412    0.454545\n",
       "Domingo     MA  Plena noite  Reta               226    0.450000\n",
       "            CE  Plena noite  Não Informado      20     0.444444\n",
       "            MA  Plena noite  Curva              222    0.437500\n",
       "Sábado      CE  Plena noite  Reta               402    0.388889\n",
       "Domingo     PE  Plena noite  Reta               110    0.387097\n",
       "Sexta       PR  Plena noite  Desvio Temporário  376    0.375000\n",
       "Domingo     PE  Anoitecer    Reta               316    0.370370\n",
       "            MA  Pleno dia    Reta               226    0.351852\n",
       "Name: letal, dtype: float64"
      ]
     },
     "execution_count": 74,
     "metadata": {},
     "output_type": "execute_result"
    }
   ],
   "source": [
    "cols = ['dia_semana','uf','fase_dia','tracado_via','br']\n",
    "\n",
    "contagem_combinacoes = df[df[\"ano\"] >= 2012].groupby(cols).size()\n",
    "\n",
    "comb_com_mais_15_registros = contagem_combinacoes[contagem_combinacoes > 15].index\n",
    "\n",
    "\n",
    "df_filtrado = df[df[cols].apply(tuple, axis=1).isin(comb_com_mais_15_registros)]\n",
    "\n",
    "media_mortos_comb_filtradas = df_filtrado.groupby(cols)['letal'].mean()\n",
    "\n",
    "media_mortos_comb_filtradas.sort_values(ascending=0)[:10]"
   ]
  },
  {
   "cell_type": "code",
   "execution_count": 75,
   "id": "63d712f8",
   "metadata": {},
   "outputs": [
    {
     "name": "stdout",
     "output_type": "stream",
     "text": [
      "A combinação com a maior chance de morte (com mais de 30 registros): ('Segunda', 'PI', 'Plena noite', 'Reta', 407)\n",
      "Chance de mortos 0.5172413793103449\n"
     ]
    }
   ],
   "source": [
    "maior_media_mortos = media_mortos_comb_filtradas.idxmax()\n",
    "media_maior_mortos = media_mortos_comb_filtradas.max()\n",
    "\n",
    "print(\"A combinação com a maior chance de morte (com mais de 30 registros):\", maior_media_mortos)\n",
    "print(\"Chance de mortos\", media_maior_mortos)"
   ]
  },
  {
   "cell_type": "code",
   "execution_count": 76,
   "id": "9454ca7f",
   "metadata": {},
   "outputs": [
    {
     "data": {
      "text/plain": [
       "dia_semana  uf  fase_dia     tracado_via        br \n",
       "Domingo     AC  Anoitecer    Reta               364    0.050000\n",
       "                Plena noite  Reta               364    0.083744\n",
       "                Pleno dia    Curva              364    0.000000\n",
       "                             Reta               317    0.090909\n",
       "                                                364    0.047619\n",
       "                                                         ...   \n",
       "Terça       TO  Pleno dia    Desvio Temporário  153    0.100000\n",
       "                             Não Informado      153    0.088889\n",
       "                             Reta               153    0.079096\n",
       "                                                226    0.082192\n",
       "                                                242    0.100000\n",
       "Name: letal, Length: 6939, dtype: float64"
      ]
     },
     "execution_count": 76,
     "metadata": {},
     "output_type": "execute_result"
    }
   ],
   "source": [
    "media_mortos_comb_filtradas"
   ]
  },
  {
   "cell_type": "code",
   "execution_count": 77,
   "id": "47aade6f",
   "metadata": {},
   "outputs": [
    {
     "data": {
      "text/html": [
       "<div>\n",
       "<style scoped>\n",
       "    .dataframe tbody tr th:only-of-type {\n",
       "        vertical-align: middle;\n",
       "    }\n",
       "\n",
       "    .dataframe tbody tr th {\n",
       "        vertical-align: top;\n",
       "    }\n",
       "\n",
       "    .dataframe thead th {\n",
       "        text-align: right;\n",
       "    }\n",
       "</style>\n",
       "<table border=\"1\" class=\"dataframe\">\n",
       "  <thead>\n",
       "    <tr style=\"text-align: right;\">\n",
       "      <th></th>\n",
       "      <th>id</th>\n",
       "      <th>data_inversa</th>\n",
       "      <th>dia_semana</th>\n",
       "      <th>horario</th>\n",
       "      <th>uf</th>\n",
       "      <th>br</th>\n",
       "      <th>km</th>\n",
       "      <th>municipio</th>\n",
       "      <th>causa_acidente</th>\n",
       "      <th>tipo_acidente</th>\n",
       "      <th>...</th>\n",
       "      <th>pessoas</th>\n",
       "      <th>mortos</th>\n",
       "      <th>feridos_leves</th>\n",
       "      <th>feridos_graves</th>\n",
       "      <th>ilesos</th>\n",
       "      <th>ignorados</th>\n",
       "      <th>feridos</th>\n",
       "      <th>veiculos</th>\n",
       "      <th>mes</th>\n",
       "      <th>letal</th>\n",
       "    </tr>\n",
       "  </thead>\n",
       "  <tbody>\n",
       "    <tr>\n",
       "      <th>2</th>\n",
       "      <td>1032898</td>\n",
       "      <td>2007-08-13</td>\n",
       "      <td>Segunda</td>\n",
       "      <td>14:25:00</td>\n",
       "      <td>MG</td>\n",
       "      <td>40</td>\n",
       "      <td>585.5</td>\n",
       "      <td>ITABIRITO</td>\n",
       "      <td>Outras</td>\n",
       "      <td>Saída de Pista</td>\n",
       "      <td>...</td>\n",
       "      <td>3</td>\n",
       "      <td>0</td>\n",
       "      <td>0</td>\n",
       "      <td>1</td>\n",
       "      <td>2</td>\n",
       "      <td>0</td>\n",
       "      <td>1</td>\n",
       "      <td>1</td>\n",
       "      <td>8</td>\n",
       "      <td>False</td>\n",
       "    </tr>\n",
       "    <tr>\n",
       "      <th>3</th>\n",
       "      <td>1051130</td>\n",
       "      <td>2007-02-12</td>\n",
       "      <td>Segunda</td>\n",
       "      <td>02:10:00</td>\n",
       "      <td>MA</td>\n",
       "      <td>135</td>\n",
       "      <td>11</td>\n",
       "      <td>SAO LUIS</td>\n",
       "      <td>Animais na Pista</td>\n",
       "      <td>Atropelamento de Animal</td>\n",
       "      <td>...</td>\n",
       "      <td>5</td>\n",
       "      <td>2</td>\n",
       "      <td>2</td>\n",
       "      <td>1</td>\n",
       "      <td>0</td>\n",
       "      <td>0</td>\n",
       "      <td>3</td>\n",
       "      <td>1</td>\n",
       "      <td>2</td>\n",
       "      <td>True</td>\n",
       "    </tr>\n",
       "    <tr>\n",
       "      <th>4</th>\n",
       "      <td>1066824</td>\n",
       "      <td>2007-11-20</td>\n",
       "      <td>Terça</td>\n",
       "      <td>05:30:00</td>\n",
       "      <td>CE</td>\n",
       "      <td>222</td>\n",
       "      <td>30.8</td>\n",
       "      <td>CAUCAIA</td>\n",
       "      <td>Defeito mecânico em veículo</td>\n",
       "      <td>Capotamento</td>\n",
       "      <td>...</td>\n",
       "      <td>1</td>\n",
       "      <td>0</td>\n",
       "      <td>1</td>\n",
       "      <td>0</td>\n",
       "      <td>0</td>\n",
       "      <td>0</td>\n",
       "      <td>1</td>\n",
       "      <td>1</td>\n",
       "      <td>11</td>\n",
       "      <td>False</td>\n",
       "    </tr>\n",
       "    <tr>\n",
       "      <th>5</th>\n",
       "      <td>1069918</td>\n",
       "      <td>2007-12-16</td>\n",
       "      <td>Domingo</td>\n",
       "      <td>17:40:00</td>\n",
       "      <td>MA</td>\n",
       "      <td>230</td>\n",
       "      <td>14</td>\n",
       "      <td>BARAO DE GRAJAU</td>\n",
       "      <td>Outras</td>\n",
       "      <td>Capotamento</td>\n",
       "      <td>...</td>\n",
       "      <td>1</td>\n",
       "      <td>0</td>\n",
       "      <td>0</td>\n",
       "      <td>1</td>\n",
       "      <td>0</td>\n",
       "      <td>0</td>\n",
       "      <td>1</td>\n",
       "      <td>1</td>\n",
       "      <td>12</td>\n",
       "      <td>False</td>\n",
       "    </tr>\n",
       "    <tr>\n",
       "      <th>6</th>\n",
       "      <td>1070971</td>\n",
       "      <td>2007-03-05</td>\n",
       "      <td>Segunda</td>\n",
       "      <td>08:10:00</td>\n",
       "      <td>PR</td>\n",
       "      <td>277</td>\n",
       "      <td>584.4</td>\n",
       "      <td>CASCAVEL</td>\n",
       "      <td>Outras</td>\n",
       "      <td>Colisão lateral</td>\n",
       "      <td>...</td>\n",
       "      <td>2</td>\n",
       "      <td>0</td>\n",
       "      <td>0</td>\n",
       "      <td>0</td>\n",
       "      <td>2</td>\n",
       "      <td>0</td>\n",
       "      <td>0</td>\n",
       "      <td>2</td>\n",
       "      <td>3</td>\n",
       "      <td>False</td>\n",
       "    </tr>\n",
       "    <tr>\n",
       "      <th>...</th>\n",
       "      <td>...</td>\n",
       "      <td>...</td>\n",
       "      <td>...</td>\n",
       "      <td>...</td>\n",
       "      <td>...</td>\n",
       "      <td>...</td>\n",
       "      <td>...</td>\n",
       "      <td>...</td>\n",
       "      <td>...</td>\n",
       "      <td>...</td>\n",
       "      <td>...</td>\n",
       "      <td>...</td>\n",
       "      <td>...</td>\n",
       "      <td>...</td>\n",
       "      <td>...</td>\n",
       "      <td>...</td>\n",
       "      <td>...</td>\n",
       "      <td>...</td>\n",
       "      <td>...</td>\n",
       "      <td>...</td>\n",
       "      <td>...</td>\n",
       "    </tr>\n",
       "    <tr>\n",
       "      <th>1882948</th>\n",
       "      <td>373974</td>\n",
       "      <td>2021-06-16</td>\n",
       "      <td>Quarta</td>\n",
       "      <td>13:15:00</td>\n",
       "      <td>BA</td>\n",
       "      <td>116</td>\n",
       "      <td>466</td>\n",
       "      <td>SANTO ESTEVAO</td>\n",
       "      <td>Condutor deixou de manter distância do veículo...</td>\n",
       "      <td>Colisão traseira</td>\n",
       "      <td>...</td>\n",
       "      <td>2</td>\n",
       "      <td>0</td>\n",
       "      <td>1</td>\n",
       "      <td>0</td>\n",
       "      <td>0</td>\n",
       "      <td>1</td>\n",
       "      <td>1</td>\n",
       "      <td>2</td>\n",
       "      <td>6</td>\n",
       "      <td>False</td>\n",
       "    </tr>\n",
       "    <tr>\n",
       "      <th>1882949</th>\n",
       "      <td>374024</td>\n",
       "      <td>2021-06-28</td>\n",
       "      <td>Segunda</td>\n",
       "      <td>10:50:00</td>\n",
       "      <td>PR</td>\n",
       "      <td>277</td>\n",
       "      <td>576</td>\n",
       "      <td>CASCAVEL</td>\n",
       "      <td>Velocidade Incompatível</td>\n",
       "      <td>Engavetamento</td>\n",
       "      <td>...</td>\n",
       "      <td>8</td>\n",
       "      <td>0</td>\n",
       "      <td>2</td>\n",
       "      <td>0</td>\n",
       "      <td>6</td>\n",
       "      <td>0</td>\n",
       "      <td>2</td>\n",
       "      <td>5</td>\n",
       "      <td>6</td>\n",
       "      <td>False</td>\n",
       "    </tr>\n",
       "    <tr>\n",
       "      <th>1882950</th>\n",
       "      <td>374224</td>\n",
       "      <td>2021-06-13</td>\n",
       "      <td>Domingo</td>\n",
       "      <td>02:50:00</td>\n",
       "      <td>SP</td>\n",
       "      <td>116</td>\n",
       "      <td>102,7</td>\n",
       "      <td>PINDAMONHANGABA</td>\n",
       "      <td>Reação tardia ou ineficiente do condutor</td>\n",
       "      <td>Colisão traseira</td>\n",
       "      <td>...</td>\n",
       "      <td>2</td>\n",
       "      <td>0</td>\n",
       "      <td>1</td>\n",
       "      <td>0</td>\n",
       "      <td>0</td>\n",
       "      <td>1</td>\n",
       "      <td>1</td>\n",
       "      <td>2</td>\n",
       "      <td>6</td>\n",
       "      <td>False</td>\n",
       "    </tr>\n",
       "    <tr>\n",
       "      <th>1882951</th>\n",
       "      <td>374239</td>\n",
       "      <td>2021-06-02</td>\n",
       "      <td>Quarta</td>\n",
       "      <td>08:45:00</td>\n",
       "      <td>RN</td>\n",
       "      <td>101</td>\n",
       "      <td>85</td>\n",
       "      <td>NATAL</td>\n",
       "      <td>Velocidade Incompatível</td>\n",
       "      <td>Colisão traseira</td>\n",
       "      <td>...</td>\n",
       "      <td>2</td>\n",
       "      <td>0</td>\n",
       "      <td>0</td>\n",
       "      <td>1</td>\n",
       "      <td>1</td>\n",
       "      <td>0</td>\n",
       "      <td>1</td>\n",
       "      <td>2</td>\n",
       "      <td>6</td>\n",
       "      <td>False</td>\n",
       "    </tr>\n",
       "    <tr>\n",
       "      <th>1882952</th>\n",
       "      <td>374253</td>\n",
       "      <td>2021-01-01</td>\n",
       "      <td>Sexta</td>\n",
       "      <td>17:40:00</td>\n",
       "      <td>RN</td>\n",
       "      <td>101</td>\n",
       "      <td>78,4</td>\n",
       "      <td>NATAL</td>\n",
       "      <td>Manobra de mudança de faixa</td>\n",
       "      <td>Capotamento</td>\n",
       "      <td>...</td>\n",
       "      <td>1</td>\n",
       "      <td>0</td>\n",
       "      <td>0</td>\n",
       "      <td>1</td>\n",
       "      <td>0</td>\n",
       "      <td>0</td>\n",
       "      <td>1</td>\n",
       "      <td>1</td>\n",
       "      <td>1</td>\n",
       "      <td>False</td>\n",
       "    </tr>\n",
       "  </tbody>\n",
       "</table>\n",
       "<p>1882161 rows × 28 columns</p>\n",
       "</div>"
      ],
      "text/plain": [
       "              id data_inversa dia_semana   horario  uf   br     km  \\\n",
       "2        1032898   2007-08-13    Segunda  14:25:00  MG   40  585.5   \n",
       "3        1051130   2007-02-12    Segunda  02:10:00  MA  135     11   \n",
       "4        1066824   2007-11-20      Terça  05:30:00  CE  222   30.8   \n",
       "5        1069918   2007-12-16    Domingo  17:40:00  MA  230     14   \n",
       "6        1070971   2007-03-05    Segunda  08:10:00  PR  277  584.4   \n",
       "...          ...          ...        ...       ...  ..  ...    ...   \n",
       "1882948   373974   2021-06-16     Quarta  13:15:00  BA  116    466   \n",
       "1882949   374024   2021-06-28    Segunda  10:50:00  PR  277    576   \n",
       "1882950   374224   2021-06-13    Domingo  02:50:00  SP  116  102,7   \n",
       "1882951   374239   2021-06-02     Quarta  08:45:00  RN  101     85   \n",
       "1882952   374253   2021-01-01      Sexta  17:40:00  RN  101   78,4   \n",
       "\n",
       "               municipio                                     causa_acidente  \\\n",
       "2              ITABIRITO                                             Outras   \n",
       "3               SAO LUIS                                   Animais na Pista   \n",
       "4                CAUCAIA                        Defeito mecânico em veículo   \n",
       "5        BARAO DE GRAJAU                                             Outras   \n",
       "6               CASCAVEL                                             Outras   \n",
       "...                  ...                                                ...   \n",
       "1882948    SANTO ESTEVAO  Condutor deixou de manter distância do veículo...   \n",
       "1882949         CASCAVEL                            Velocidade Incompatível   \n",
       "1882950  PINDAMONHANGABA           Reação tardia ou ineficiente do condutor   \n",
       "1882951            NATAL                            Velocidade Incompatível   \n",
       "1882952            NATAL                        Manobra de mudança de faixa   \n",
       "\n",
       "                   tipo_acidente  ... pessoas mortos feridos_leves  \\\n",
       "2                 Saída de Pista  ...       3      0             0   \n",
       "3        Atropelamento de Animal  ...       5      2             2   \n",
       "4                    Capotamento  ...       1      0             1   \n",
       "5                    Capotamento  ...       1      0             0   \n",
       "6                Colisão lateral  ...       2      0             0   \n",
       "...                          ...  ...     ...    ...           ...   \n",
       "1882948         Colisão traseira  ...       2      0             1   \n",
       "1882949            Engavetamento  ...       8      0             2   \n",
       "1882950         Colisão traseira  ...       2      0             1   \n",
       "1882951         Colisão traseira  ...       2      0             0   \n",
       "1882952              Capotamento  ...       1      0             0   \n",
       "\n",
       "        feridos_graves ilesos ignorados feridos  veiculos  mes  letal  \n",
       "2                    1      2         0       1         1    8  False  \n",
       "3                    1      0         0       3         1    2   True  \n",
       "4                    0      0         0       1         1   11  False  \n",
       "5                    1      0         0       1         1   12  False  \n",
       "6                    0      2         0       0         2    3  False  \n",
       "...                ...    ...       ...     ...       ...  ...    ...  \n",
       "1882948              0      0         1       1         2    6  False  \n",
       "1882949              0      6         0       2         5    6  False  \n",
       "1882950              0      0         1       1         2    6  False  \n",
       "1882951              1      1         0       1         2    6  False  \n",
       "1882952              1      0         0       1         1    1  False  \n",
       "\n",
       "[1882161 rows x 28 columns]"
      ]
     },
     "execution_count": 77,
     "metadata": {},
     "output_type": "execute_result"
    }
   ],
   "source": [
    "df"
   ]
  }
 ],
 "metadata": {
  "kernelspec": {
   "display_name": "Python 3 (ipykernel)",
   "language": "python",
   "name": "python3"
  },
  "language_info": {
   "codemirror_mode": {
    "name": "ipython",
    "version": 3
   },
   "file_extension": ".py",
   "mimetype": "text/x-python",
   "name": "python",
   "nbconvert_exporter": "python",
   "pygments_lexer": "ipython3",
   "version": "3.10.1"
  }
 },
 "nbformat": 4,
 "nbformat_minor": 5
}
